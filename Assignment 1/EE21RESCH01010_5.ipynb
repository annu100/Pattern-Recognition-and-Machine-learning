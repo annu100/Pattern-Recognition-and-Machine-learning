{
  "nbformat": 4,
  "nbformat_minor": 0,
  "metadata": {
    "colab": {
      "name": "prml5 (1).ipynb",
      "provenance": [],
      "collapsed_sections": []
    },
    "kernelspec": {
      "name": "python3",
      "display_name": "Python 3"
    }
  },
  "cells": [
    {
      "cell_type": "code",
      "metadata": {
        "id": "gPKe7JWcKHk9"
      },
      "source": [
        "#Load MNIST Dataset\r\n",
        "#MNIST Dataset can be found here: http://yann.lecun.com/exdb/mn\r\n",
        "import scipy\r\n",
        "import matplotlib.pyplot as plt\r\n",
        "import gzip\r\n",
        "from math import sqrt\r\n",
        "import random\r\n",
        "import pandas as pd\r\n",
        "#Program to load the data \r\n",
        "def load_mnist(filename, type, n_datapoints):\r\n",
        "    # MNIST Images have 28*28 pixels dimension\r\n",
        "    image_size = 28\r\n",
        "    f = gzip.open(filename)\r\n",
        "    if(type == 'image'):\r\n",
        "        f.read(16)  # Skip Non-Image information\r\n",
        "        buf = f.read(n_datapoints * image_size * image_size)\r\n",
        "        data = np.frombuffer(buf, dtype=np.uint8).astype(np.float32)\r\n",
        "        data = data.reshape(n_datapoints, image_size, image_size, 1)\r\n",
        "    elif(type == 'label'):\r\n",
        "        f.read(8) # Skip Inessential information\r\n",
        "        buf = f.read(n_datapoints)\r\n",
        "        data = np.frombuffer(buf, dtype=np.uint8).astype(np.int64)\r\n",
        "        data = data.reshape(n_datapoints, 1)\r\n",
        "    return data\r\n",
        "\r\n",
        "# Training Dataset\r\n",
        "train_size = 60000\r\n",
        "test_size = 10000\r\n",
        "# dirpath = '/content/drive/My Drive/02 MNIST Digit Recognition/'\r\n",
        "dirpath = ''\r\n",
        "X_train = load_mnist('train-images.gz', 'image', train_size)\r\n",
        "train_label = load_mnist('train-labels.gz','image', train_size)\r\n",
        "X_test = load_mnist('test-images.gz','image', test_size)\r\n",
        "test_label = load_mnist('test-labels.gz', 'label', test_size)\r\n",
        "#To verify whether the data is loaded properly, the image and label are randomly selected and visualized\r\n",
        "\r\n",
        "\r\n",
        "index = random.randint(0, train_size)\r\n",
        "print('Index: ', index)\r\n",
        "print('Training Set: ')\r\n",
        "print('Label:', y[index])\r\n",
        "img = np.asarray(X[index]).squeeze()\r\n",
        "plt.imshow(img)\r\n",
        "plt.show()\r\n",
        "\r\n",
        "index = random.randint(0, test_size)\r\n",
        "print('Index: ', index)\r\n",
        "print('Training Set: ')\r\n",
        "print('Label:', y_test[index])\r\n",
        "img = np.asarray(X_test[index]).squeeze()\r\n",
        "plt.imshow(img)\r\n",
        "plt.show()\r\n",
        "#KNN CLASS\r\n",
        "class KNN():\r\n",
        "  def _init_(self,k):\r\n",
        "    self.k=k\r\n",
        "    print(self.k)\r\n",
        "  def fit(self,X_train,y_train):\r\n",
        "    self.x_train=X_train\r\n",
        "    self.y_train=y_train\r\n",
        "  def calculate_euclidean(self,sample1,sample2):\r\n",
        "    distance=0.0\r\n",
        "    for i in range(len(sample1)):\r\n",
        "      distance+=(sample1[i]-sample2[i])**2 #Euclidean Distance = sqrt(sum i to N (x1_i – x2_i)^2)\r\n",
        "    return sqrt(distance)\r\n",
        "  def nearest_neighbors(self,test_sample):\r\n",
        "    distances=[]#calculate distances from a test sample to every sample in a training set\r\n",
        "    for i in range(len(self.x_train)):\r\n",
        "      distances.append((self.y_train[i],self.calculate_euclidean(self.x_train[i],test_sample)))\r\n",
        "      distances.sort(key=lambda x:x[1])#sort in ascending order, based on a distance value\r\n",
        "    neighbors=[]\r\n",
        "    for i in range(self.k): #get first k samples\r\n",
        "      neighbors.append(distances[i][0])\r\n",
        "    return neighbors\r\n",
        "  def predict(self,test_set):\r\n",
        "    predictions=[]\r\n",
        "    for test_sample in test_set:\r\n",
        "      neighbors=self.nearest_neighbors(test_sample)\r\n",
        "      labels=[sample for sample in neighbors]\r\n",
        "      prediction=max(labels,key=labels.count)\r\n",
        "      predictions.append(prediction)\r\n",
        "    return predictions\r\n",
        "\r\n",
        "model=KNN(5) #our model\r\n",
        "model.fit(X_train,y_train)  \r\n",
        "def accuracy_metric(actual, predicted):\r\n",
        "\tcorrect = 0\r\n",
        "\tfor i,j in zip(actual, predicted):\r\n",
        "\t\tif i == j:\r\n",
        "\t\t   correct += 1\r\n",
        "\treturn correct / float(len(actual)) * 100.0\r\n",
        "\r\n",
        "\r\n",
        "#CONFUSION MATRIX\r\n",
        "def  confusion_matrix(actual,predicted):\r\n",
        "      classes = set(actual)\r\n",
        "      number_of_classes = len(classes)\r\n",
        "      conf_matrix = pd.DataFrame(np.zeros((number_of_classes, number_of_classes),dtype=int),\r\n",
        "      index=classes,\r\n",
        "      columns=classes)\r\n",
        "      for i, j in zip(actual,predicted):\r\n",
        "      conf_matrix.loc[i, j] += 1\r\n",
        "      return conf_matrix\r\n",
        "def distance_matrix(A, B, squared=False):\r\n",
        "    \"\"\"\r\n",
        "    Compute all pairwise distances between vectors in A and B.\r\n",
        "\r\n",
        "    Parameters\r\n",
        "    ----------\r\n",
        "    A : np.array\r\n",
        "        shape should be (M, K)\r\n",
        "    B : np.array\r\n",
        "        shape should be (N, K)\r\n",
        "\r\n",
        "    Returns\r\n",
        "    -------\r\n",
        "    D : np.array\r\n",
        "        A matrix D of shape (M, N).  Each entry in D i,j represnets the\r\n",
        "        distance between row i in A and row j in B.\r\n",
        "\r\n",
        "    \"\"\"\r\n",
        "    M = A.shape[0]\r\n",
        "    N = B.shape[0]\r\n",
        "\r\n",
        "    assert A.shape[1] == B.shape[1], f\"The number of components for vectors in A \\\r\n",
        "        {A.shape[1]} does not match that of B {B.shape[1]}!\"\r\n",
        "        \r\n",
        "    A_dots = (A*A).sum(axis=1).reshape((M,1))*np.ones(shape=(1,N))\r\n",
        "    B_dots = (B*B).sum(axis=1)*np.ones(shape=(M,1))\r\n",
        "    D_squared =  A_dots + B_dots -2*A.dot(B.T)\r\n",
        "\r\n",
        "    if squared == False:\r\n",
        "        zero_mask = np.less(D_squared, 0.0)\r\n",
        "        D_squared[zero_mask] = 0.0\r\n",
        "        return np.sqrt(D_squared)\r\n",
        "\r\n",
        "    return D_squared\r\n",
        "\r\n",
        "\r\n",
        "def kNNClassify(Xtr,Ytr,k,Xte):\r\n",
        "    n=Xtr.shape[0]\r\n",
        "    if k>n:\r\n",
        "       k=n\r\n",
        "    ylab=np.unique(Ytr)\r\n",
        "    ym=sum(ylab)/2\r\n",
        "    #center output if output is not in[-1,1]\r\n",
        "    Ytrm=Ytr-ym\r\n",
        "    I=np.argsort(distance_matrix(Xtr,Xte),axis=0)#sorting coloumn wise\r\n",
        "    idx=I[0:k,:]\r\n",
        "    m=Xte.shape[0]\r\n",
        "    if k==1:\r\n",
        "       Ypred=Ytr[idx]\r\n",
        "    else:\r\n",
        "        val=[sum(Ytrm[idx][:,i])/k for i in range(len(idx[0,:]))]\r\n",
        "        for i in range(len(val)):\r\n",
        "           if val[i]==0:\r\n",
        "                val[i]=Ytrm[idx][0,i]\r\n",
        "        Ypred=np.sign(val)\r\n",
        "    return Ypred\r\n",
        "    \r\n",
        "#K-Nearest Neighbors¶\r\n",
        "#Determining Optimal Number of Neighbors\r\n",
        "#To detect optimal value for 'K', lets compare the accuracy of KNN models with different 'K' values.\r\n",
        "\r\n",
        "#By plotting the values in a graph, we can see the performance visually, and select the best performing 'K' value\r\n",
        "\r\n",
        "\r\n",
        "score = []\r\n",
        "\r\n",
        "for k in range(1, 9):\r\n",
        "  print('Begin KNN with k=',k)\r\n",
        "  predicted=kNNClassify(X_train,train_labels,k,X_test)\r\n",
        "  accuracy = accuracy_metric(y_valid, predicted)\r\n",
        "  score.append(accuracy)\r\n",
        "  print(\"Accuracy: \",accuracy)\r\n",
        "  print(\"Confusion Matrix:\\n\", confusion_matrix(y_valid, pred))\r\n",
        "  print(\"\\n---------------\\n\")\r\n",
        "\r\n",
        "\r\n",
        "\r\n",
        "\r\n",
        "\r\n",
        "\r\n",
        "\r\n",
        "\r\n",
        "#Ways to improve performance (question-5,part-(d))\r\n",
        "#Features should be normalized to have the same range of \r\n",
        "#values (e.g., [0,1]), otherwise features with larger ranges will \r\n",
        "#have higher impact on the distance.\r\n",
        "#Our data may also contain the GPAs\r\n",
        "#• Should we include this attribute into the calculation?\r\n",
        "#• When collecting data, people tend to collect as much \r\n",
        "#information as possible regardless whether they are \r\n",
        "#useful or not for the question in hand\r\n",
        "#• It is critical to recognize and remove such attributes when \r\n",
        "#building your classification models \r\n",
        "#• Curse of dimensionality:\r\n",
        "#– In high dimensional space (e.g., over 20), data becomes so \r\n",
        "#sparse that the nearest neighbor is still very far, not informative \r\n",
        "#any more\r\n",
        "#Often need to be used with dimension reduction\r\n",
        "# It can be computationally \r\n",
        "#expensive to find the nearest \r\n",
        "#neighbors for large data\r\n",
        "#– O(Nd) for every test point (as \r\n",
        "#opposed to O(d) for linear \r\n",
        "#classifier)\r\n",
        "#– Speed up the computation by \r\n",
        "#using smart data structures (kd-\r\n",
        "#tree) to quickly search for \r\n",
        "#approximate solutions\r\n",
        "#• For massive data sets, it also \r\n",
        "#requires a lot of memory\r\n",
        "#– Remove unimportant examples\t"
      ],
      "execution_count": null,
      "outputs": []
    },
    {
      "cell_type": "markdown",
      "metadata": {
        "id": "ADTif14Q_mPB"
      },
      "source": [
        "# New Section"
      ]
    },
    {
      "cell_type": "code",
      "metadata": {
        "colab": {
          "base_uri": "https://localhost:8080/"
        },
        "id": "z-avJRAp52oK",
        "outputId": "85b24831-97b0-4a1c-ffde-466f991eb8a1"
      },
      "source": [
        "pip install idx2numpy"
      ],
      "execution_count": null,
      "outputs": [
        {
          "output_type": "stream",
          "text": [
            "Collecting idx2numpy\n",
            "  Downloading https://files.pythonhosted.org/packages/7e/6b/80628f6cc2f44d80b27f1ef7b57b257ed4c73766113b77d13ad110c091b4/idx2numpy-1.2.3.tar.gz\n",
            "Requirement already satisfied: numpy in /usr/local/lib/python3.6/dist-packages (from idx2numpy) (1.19.5)\n",
            "Requirement already satisfied: six in /usr/local/lib/python3.6/dist-packages (from idx2numpy) (1.15.0)\n",
            "Building wheels for collected packages: idx2numpy\n",
            "  Building wheel for idx2numpy (setup.py) ... \u001b[?25l\u001b[?25hdone\n",
            "  Created wheel for idx2numpy: filename=idx2numpy-1.2.3-cp36-none-any.whl size=7905 sha256=cdd1b3824bb0c122d6557d161ee71cb97024893fbe38be6d05b26a3d2b1341e6\n",
            "  Stored in directory: /root/.cache/pip/wheels/7a/c1/da/284ce80a748fab898b8d1fa95468a386e7cf3b81da18511f9d\n",
            "Successfully built idx2numpy\n",
            "Installing collected packages: idx2numpy\n",
            "Successfully installed idx2numpy-1.2.3\n"
          ],
          "name": "stdout"
        }
      ]
    },
    {
      "cell_type": "code",
      "metadata": {
        "colab": {
          "base_uri": "https://localhost:8080/",
          "height": 132
        },
        "id": "SnR0KoKR6Fq1",
        "outputId": "c58ed2b1-bc5f-47c1-fdd3-47b529eff00b"
      },
      "source": [
        "http://yann.lecun.com/exdb/mnist/train-images-idx3-ubyte.gz\r\n",
        "http://yann.lecun.com/exdb/mnist/train-labels-idx1-ubyte.gz\r\n",
        "http://yann.lecun.com/exdb/mnist/t10k-images-idx3-ubyte.gz\r\n",
        "http://yann.lecun.com/exdb/mnist/t10k-labels-idx1-ubyte.gz"
      ],
      "execution_count": null,
      "outputs": [
        {
          "output_type": "error",
          "ename": "SyntaxError",
          "evalue": "ignored",
          "traceback": [
            "\u001b[0;36m  File \u001b[0;32m\"<ipython-input-3-d16206a7408f>\"\u001b[0;36m, line \u001b[0;32m1\u001b[0m\n\u001b[0;31m    http://yann.lecun.com/exdb/mnist/train-images-idx3-ubyte.gz\u001b[0m\n\u001b[0m          ^\u001b[0m\n\u001b[0;31mSyntaxError\u001b[0m\u001b[0;31m:\u001b[0m invalid syntax\n"
          ]
        }
      ]
    },
    {
      "cell_type": "code",
      "metadata": {
        "colab": {
          "base_uri": "https://localhost:8080/"
        },
        "id": "ky_V4Jk58wtN",
        "outputId": "871fc826-8c86-4477-d0f8-e21d7df6ce3e"
      },
      "source": [
        "pip install python-mnist"
      ],
      "execution_count": null,
      "outputs": [
        {
          "output_type": "stream",
          "text": [
            "Collecting python-mnist\n",
            "  Downloading https://files.pythonhosted.org/packages/64/f0/6086b84427c3bf156ec0b3c2f9dfc1d770b35f942b9ed8a64f5229776a80/python_mnist-0.7-py2.py3-none-any.whl\n",
            "Installing collected packages: python-mnist\n",
            "Successfully installed python-mnist-0.7\n"
          ],
          "name": "stdout"
        }
      ]
    },
    {
      "cell_type": "code",
      "metadata": {
        "colab": {
          "base_uri": "https://localhost:8080/",
          "height": 547
        },
        "id": "eudZG8c7C4rc",
        "outputId": "00a91d07-9ca2-4020-d323-69bfc097f25f"
      },
      "source": [
        "from google.colab import drive\n",
        "drive.mount('/content/drive')"
      ],
      "execution_count": null,
      "outputs": [
        {
          "output_type": "error",
          "ename": "KeyboardInterrupt",
          "evalue": "ignored",
          "traceback": [
            "\u001b[0;31m---------------------------------------------------------------------------\u001b[0m",
            "\u001b[0;31mKeyboardInterrupt\u001b[0m                         Traceback (most recent call last)",
            "\u001b[0;32m/usr/local/lib/python3.6/dist-packages/ipykernel/kernelbase.py\u001b[0m in \u001b[0;36m_input_request\u001b[0;34m(self, prompt, ident, parent, password)\u001b[0m\n\u001b[1;32m    728\u001b[0m             \u001b[0;32mtry\u001b[0m\u001b[0;34m:\u001b[0m\u001b[0;34m\u001b[0m\u001b[0;34m\u001b[0m\u001b[0m\n\u001b[0;32m--> 729\u001b[0;31m                 \u001b[0mident\u001b[0m\u001b[0;34m,\u001b[0m \u001b[0mreply\u001b[0m \u001b[0;34m=\u001b[0m \u001b[0mself\u001b[0m\u001b[0;34m.\u001b[0m\u001b[0msession\u001b[0m\u001b[0;34m.\u001b[0m\u001b[0mrecv\u001b[0m\u001b[0;34m(\u001b[0m\u001b[0mself\u001b[0m\u001b[0;34m.\u001b[0m\u001b[0mstdin_socket\u001b[0m\u001b[0;34m,\u001b[0m \u001b[0;36m0\u001b[0m\u001b[0;34m)\u001b[0m\u001b[0;34m\u001b[0m\u001b[0;34m\u001b[0m\u001b[0m\n\u001b[0m\u001b[1;32m    730\u001b[0m             \u001b[0;32mexcept\u001b[0m \u001b[0mException\u001b[0m\u001b[0;34m:\u001b[0m\u001b[0;34m\u001b[0m\u001b[0;34m\u001b[0m\u001b[0m\n",
            "\u001b[0;32m/usr/local/lib/python3.6/dist-packages/jupyter_client/session.py\u001b[0m in \u001b[0;36mrecv\u001b[0;34m(self, socket, mode, content, copy)\u001b[0m\n\u001b[1;32m    802\u001b[0m         \u001b[0;32mtry\u001b[0m\u001b[0;34m:\u001b[0m\u001b[0;34m\u001b[0m\u001b[0;34m\u001b[0m\u001b[0m\n\u001b[0;32m--> 803\u001b[0;31m             \u001b[0mmsg_list\u001b[0m \u001b[0;34m=\u001b[0m \u001b[0msocket\u001b[0m\u001b[0;34m.\u001b[0m\u001b[0mrecv_multipart\u001b[0m\u001b[0;34m(\u001b[0m\u001b[0mmode\u001b[0m\u001b[0;34m,\u001b[0m \u001b[0mcopy\u001b[0m\u001b[0;34m=\u001b[0m\u001b[0mcopy\u001b[0m\u001b[0;34m)\u001b[0m\u001b[0;34m\u001b[0m\u001b[0;34m\u001b[0m\u001b[0m\n\u001b[0m\u001b[1;32m    804\u001b[0m         \u001b[0;32mexcept\u001b[0m \u001b[0mzmq\u001b[0m\u001b[0;34m.\u001b[0m\u001b[0mZMQError\u001b[0m \u001b[0;32mas\u001b[0m \u001b[0me\u001b[0m\u001b[0;34m:\u001b[0m\u001b[0;34m\u001b[0m\u001b[0;34m\u001b[0m\u001b[0m\n",
            "\u001b[0;32m/usr/local/lib/python3.6/dist-packages/zmq/sugar/socket.py\u001b[0m in \u001b[0;36mrecv_multipart\u001b[0;34m(self, flags, copy, track)\u001b[0m\n\u001b[1;32m    582\u001b[0m         \"\"\"\n\u001b[0;32m--> 583\u001b[0;31m         \u001b[0mparts\u001b[0m \u001b[0;34m=\u001b[0m \u001b[0;34m[\u001b[0m\u001b[0mself\u001b[0m\u001b[0;34m.\u001b[0m\u001b[0mrecv\u001b[0m\u001b[0;34m(\u001b[0m\u001b[0mflags\u001b[0m\u001b[0;34m,\u001b[0m \u001b[0mcopy\u001b[0m\u001b[0;34m=\u001b[0m\u001b[0mcopy\u001b[0m\u001b[0;34m,\u001b[0m \u001b[0mtrack\u001b[0m\u001b[0;34m=\u001b[0m\u001b[0mtrack\u001b[0m\u001b[0;34m)\u001b[0m\u001b[0;34m]\u001b[0m\u001b[0;34m\u001b[0m\u001b[0;34m\u001b[0m\u001b[0m\n\u001b[0m\u001b[1;32m    584\u001b[0m         \u001b[0;31m# have first part already, only loop while more to receive\u001b[0m\u001b[0;34m\u001b[0m\u001b[0;34m\u001b[0m\u001b[0;34m\u001b[0m\u001b[0m\n",
            "\u001b[0;32mzmq/backend/cython/socket.pyx\u001b[0m in \u001b[0;36mzmq.backend.cython.socket.Socket.recv\u001b[0;34m()\u001b[0m\n",
            "\u001b[0;32mzmq/backend/cython/socket.pyx\u001b[0m in \u001b[0;36mzmq.backend.cython.socket.Socket.recv\u001b[0;34m()\u001b[0m\n",
            "\u001b[0;32mzmq/backend/cython/socket.pyx\u001b[0m in \u001b[0;36mzmq.backend.cython.socket._recv_copy\u001b[0;34m()\u001b[0m\n",
            "\u001b[0;32m/usr/local/lib/python3.6/dist-packages/zmq/backend/cython/checkrc.pxd\u001b[0m in \u001b[0;36mzmq.backend.cython.checkrc._check_rc\u001b[0;34m()\u001b[0m\n",
            "\u001b[0;31mKeyboardInterrupt\u001b[0m: ",
            "\nDuring handling of the above exception, another exception occurred:\n",
            "\u001b[0;31mKeyboardInterrupt\u001b[0m                         Traceback (most recent call last)",
            "\u001b[0;32m<ipython-input-12-d5df0069828e>\u001b[0m in \u001b[0;36m<module>\u001b[0;34m()\u001b[0m\n\u001b[1;32m      1\u001b[0m \u001b[0;32mfrom\u001b[0m \u001b[0mgoogle\u001b[0m\u001b[0;34m.\u001b[0m\u001b[0mcolab\u001b[0m \u001b[0;32mimport\u001b[0m \u001b[0mdrive\u001b[0m\u001b[0;34m\u001b[0m\u001b[0;34m\u001b[0m\u001b[0m\n\u001b[0;32m----> 2\u001b[0;31m \u001b[0mdrive\u001b[0m\u001b[0;34m.\u001b[0m\u001b[0mmount\u001b[0m\u001b[0;34m(\u001b[0m\u001b[0;34m'/content/drive'\u001b[0m\u001b[0;34m)\u001b[0m\u001b[0;34m\u001b[0m\u001b[0;34m\u001b[0m\u001b[0m\n\u001b[0m",
            "\u001b[0;32m/usr/local/lib/python3.6/dist-packages/google/colab/drive.py\u001b[0m in \u001b[0;36mmount\u001b[0;34m(mountpoint, force_remount, timeout_ms, use_metadata_server)\u001b[0m\n\u001b[1;32m    259\u001b[0m       \u001b[0;32mwith\u001b[0m \u001b[0m_output\u001b[0m\u001b[0;34m.\u001b[0m\u001b[0muse_tags\u001b[0m\u001b[0;34m(\u001b[0m\u001b[0;34m'dfs-auth-dance'\u001b[0m\u001b[0;34m)\u001b[0m\u001b[0;34m:\u001b[0m\u001b[0;34m\u001b[0m\u001b[0;34m\u001b[0m\u001b[0m\n\u001b[1;32m    260\u001b[0m         \u001b[0;32mwith\u001b[0m \u001b[0mopen\u001b[0m\u001b[0;34m(\u001b[0m\u001b[0mfifo\u001b[0m\u001b[0;34m,\u001b[0m \u001b[0;34m'w'\u001b[0m\u001b[0;34m)\u001b[0m \u001b[0;32mas\u001b[0m \u001b[0mfifo_file\u001b[0m\u001b[0;34m:\u001b[0m\u001b[0;34m\u001b[0m\u001b[0;34m\u001b[0m\u001b[0m\n\u001b[0;32m--> 261\u001b[0;31m           \u001b[0mfifo_file\u001b[0m\u001b[0;34m.\u001b[0m\u001b[0mwrite\u001b[0m\u001b[0;34m(\u001b[0m\u001b[0mget_code\u001b[0m\u001b[0;34m(\u001b[0m\u001b[0mauth_prompt\u001b[0m\u001b[0;34m)\u001b[0m \u001b[0;34m+\u001b[0m \u001b[0;34m'\\n'\u001b[0m\u001b[0;34m)\u001b[0m\u001b[0;34m\u001b[0m\u001b[0;34m\u001b[0m\u001b[0m\n\u001b[0m\u001b[1;32m    262\u001b[0m       \u001b[0mwrote_to_fifo\u001b[0m \u001b[0;34m=\u001b[0m \u001b[0;32mTrue\u001b[0m\u001b[0;34m\u001b[0m\u001b[0;34m\u001b[0m\u001b[0m\n\u001b[1;32m    263\u001b[0m     \u001b[0;32melif\u001b[0m \u001b[0mcase\u001b[0m \u001b[0;34m==\u001b[0m \u001b[0;36m5\u001b[0m\u001b[0;34m:\u001b[0m\u001b[0;34m\u001b[0m\u001b[0;34m\u001b[0m\u001b[0m\n",
            "\u001b[0;32m/usr/local/lib/python3.6/dist-packages/ipykernel/kernelbase.py\u001b[0m in \u001b[0;36mraw_input\u001b[0;34m(self, prompt)\u001b[0m\n\u001b[1;32m    702\u001b[0m             \u001b[0mself\u001b[0m\u001b[0;34m.\u001b[0m\u001b[0m_parent_ident\u001b[0m\u001b[0;34m,\u001b[0m\u001b[0;34m\u001b[0m\u001b[0;34m\u001b[0m\u001b[0m\n\u001b[1;32m    703\u001b[0m             \u001b[0mself\u001b[0m\u001b[0;34m.\u001b[0m\u001b[0m_parent_header\u001b[0m\u001b[0;34m,\u001b[0m\u001b[0;34m\u001b[0m\u001b[0;34m\u001b[0m\u001b[0m\n\u001b[0;32m--> 704\u001b[0;31m             \u001b[0mpassword\u001b[0m\u001b[0;34m=\u001b[0m\u001b[0;32mFalse\u001b[0m\u001b[0;34m,\u001b[0m\u001b[0;34m\u001b[0m\u001b[0;34m\u001b[0m\u001b[0m\n\u001b[0m\u001b[1;32m    705\u001b[0m         )\n\u001b[1;32m    706\u001b[0m \u001b[0;34m\u001b[0m\u001b[0m\n",
            "\u001b[0;32m/usr/local/lib/python3.6/dist-packages/ipykernel/kernelbase.py\u001b[0m in \u001b[0;36m_input_request\u001b[0;34m(self, prompt, ident, parent, password)\u001b[0m\n\u001b[1;32m    732\u001b[0m             \u001b[0;32mexcept\u001b[0m \u001b[0mKeyboardInterrupt\u001b[0m\u001b[0;34m:\u001b[0m\u001b[0;34m\u001b[0m\u001b[0;34m\u001b[0m\u001b[0m\n\u001b[1;32m    733\u001b[0m                 \u001b[0;31m# re-raise KeyboardInterrupt, to truncate traceback\u001b[0m\u001b[0;34m\u001b[0m\u001b[0;34m\u001b[0m\u001b[0;34m\u001b[0m\u001b[0m\n\u001b[0;32m--> 734\u001b[0;31m                 \u001b[0;32mraise\u001b[0m \u001b[0mKeyboardInterrupt\u001b[0m\u001b[0;34m\u001b[0m\u001b[0;34m\u001b[0m\u001b[0m\n\u001b[0m\u001b[1;32m    735\u001b[0m             \u001b[0;32melse\u001b[0m\u001b[0;34m:\u001b[0m\u001b[0;34m\u001b[0m\u001b[0;34m\u001b[0m\u001b[0m\n\u001b[1;32m    736\u001b[0m                 \u001b[0;32mbreak\u001b[0m\u001b[0;34m\u001b[0m\u001b[0;34m\u001b[0m\u001b[0m\n",
            "\u001b[0;31mKeyboardInterrupt\u001b[0m: "
          ]
        }
      ]
    }
  ]
}