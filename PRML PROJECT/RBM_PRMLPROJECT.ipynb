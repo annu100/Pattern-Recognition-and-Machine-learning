{
  "nbformat": 4,
  "nbformat_minor": 0,
  "metadata": {
    "colab": {
      "name": "RBM_PRMLPROJECT.ipynb",
      "provenance": []
    },
    "kernelspec": {
      "display_name": "Python 3",
      "language": "python",
      "name": "python3"
    },
    "language_info": {
      "codemirror_mode": {
        "name": "ipython",
        "version": 3
      },
      "file_extension": ".py",
      "mimetype": "text/x-python",
      "name": "python",
      "nbconvert_exporter": "python",
      "pygments_lexer": "ipython3",
      "version": "3.8.3"
    }
  },
  "cells": [
    {
      "cell_type": "markdown",
      "metadata": {
        "id": "GroWdqTCluD6"
      },
      "source": [
        "\n",
        "<h1 align=\"center\"><font size=\"10\">PRML PROJECT PRESENTATION</font></h1>\n",
        "<h1 align=\"center\"><font size=\"5\">RESTRICTED BOLTZMANN MACHINES</font></h1>\n"
      ]
    },
    {
      "cell_type": "markdown",
      "metadata": {
        "id": "N4ODj-9tvgNt"
      },
      "source": [
        "### Annu, EE21RESCH01010\n",
        "### Shantanu Yadav, EE20MTECH12001"
      ]
    },
    {
      "cell_type": "markdown",
      "metadata": {
        "id": "S17YkGrhluEZ"
      },
      "source": [
        "<h3>Introduction</h3>\n",
        "<b>Restricted Boltzmann Machine (RBM):</b>  RBMs are shallow neural nets that learn to reconstruct data by themselves in an unsupervised fashion.  \n",
        "\n",
        "<h4>Why are RBMs important?</h4>\n",
        "An RBM are a basic form of autoencoder.  It can automatically extract <b>meaningful</b> features from a given input.\n",
        "\n",
        "<h4>How does it work?</h4>\n",
        "RBM is a 2 layer neural network. Simply, RBM takes the inputs and translates those into a set of binary values that represents them in the hidden layer. Then, these numbers can be translated back to reconstruct the inputs. Through several forward and backward passes, the RBM will be trained, and a trained RBM can reveal which features are the most important ones when detecting patterns.   \n",
        "\n",
        "<h4>What are the applications of an RBM?</h4>\n",
        "RBM is useful for collaborative filtering, dimensionality reduction, classification, regression, feature learning, topic modeling and even <b>Deep Belief Networks</b>.\n",
        "\n",
        "<h4>Is RBM a generative or Discriminative model?</h4>\n",
        "RBM is a generative model. \n",
        "\n",
        "<b>Generative:</b> Looking at cars, we can build a model of what Sedan cars look like. Then, looking at SUVs, we can build a separate model of what SUV cars look like. Finally, to classify a new car, we can match the new car against the Sedan model, and match it against the SUV model, to see whether the new car looks more like the SUV or Sedan. \n",
        "\n",
        "Generative Models specify a probability distribution over a dataset of input vectors. In the supervised task, we first form a model for $P(x|y)$, where $P$ is the probability of $x$ given $y$(the label for $x$). For example, if $y = 0$ indicates that a car is an SUV, and $y = 1$ indicates that a car is a sedan, then $p(x|y = 0)$ models the distribution of SUV features, and $p(x|y = 1)$ models the distribution of sedan features. If we manage to find $P(x|y)$ and $P(y)$, then we can use <b>Bayes rule</b> to estimate $P(y|x)$, because:   \n",
        "        $$p(y|x) = \\frac{p(x|y)p(y)}{p(x)}$$</li>\n",
        "</ul>\n"
      ]
    },
    {
      "cell_type": "markdown",
      "metadata": {
        "id": "EXotShqOluEe"
      },
      "source": [
        ""
      ]
    },
    {
      "cell_type": "markdown",
      "metadata": {
        "id": "pQKJjlECluEg"
      },
      "source": [
        "<a id=\"ref1\"></a>\n",
        "\n",
        "<h3>Initialization</h3>\n",
        "\n",
        "First, we have to load the utility file which contains different utility functions that are not connected\n",
        "in any way to the networks presented in the tutorials, but rather help in\n",
        "processing the outputs into a more understandable way.\n"
      ]
    },
    {
      "cell_type": "code",
      "metadata": {
        "id": "Md9m3hCOluEn",
        "outputId": "07c1bd0e-743c-48fb-871e-8a3e1ad44215"
      },
      "source": [
        "'''\n",
        "import urllib.request\n",
        "with urllib.request.urlopen(\"https://cf-courses-data.s3.us.cloud-object-storage.appdomain.cloud/IBMDeveloperSkillsNetwork-DL0120EN-SkillsNetwork/labs/Week4/data/utils.py\") as url:\n",
        "    response = url.read()\n",
        "target = open('utils.py', 'w')\n",
        "target.write(response.decode('utf-8'))\n",
        "target.close()\n",
        "'''"
      ],
      "execution_count": null,
      "outputs": [
        {
          "output_type": "execute_result",
          "data": {
            "text/plain": [
              "'\\nimport urllib.request\\nwith urllib.request.urlopen(\"https://cf-courses-data.s3.us.cloud-object-storage.appdomain.cloud/IBMDeveloperSkillsNetwork-DL0120EN-SkillsNetwork/labs/Week4/data/utils.py\") as url:\\n    response = url.read()\\ntarget = open(\\'utils.py\\', \\'w\\')\\ntarget.write(response.decode(\\'utf-8\\'))\\ntarget.close()\\n'"
            ]
          },
          "metadata": {
            "tags": []
          },
          "execution_count": 7
        }
      ]
    },
    {
      "cell_type": "markdown",
      "metadata": {
        "id": "cDbWgDe0luEq"
      },
      "source": [
        "<h2>Installing TensorFlow </h2>\n",
        "\n",
        "We will installing TensorFlow version 2.2.0 and its required prerequistes.  Also installing pillow...\n"
      ]
    },
    {
      "cell_type": "code",
      "metadata": {
        "colab": {
          "base_uri": "https://localhost:8080/"
        },
        "id": "uyg_Zc9xluEr",
        "outputId": "6626ff45-2700-45cf-b512-0a6e97ad9671"
      },
      "source": [
        "!pip install grpcio==1.24.3\n",
        "!pip install tensorflow==2.2.0\n",
        "!pip install pillow"
      ],
      "execution_count": null,
      "outputs": [
        {
          "output_type": "stream",
          "text": [
            "Collecting grpcio==1.24.3\n",
            "\u001b[?25l  Downloading https://files.pythonhosted.org/packages/b9/ba/254011b066e6675411ba913dafd6e40ce8d3235bebf64fb226a7305f29ac/grpcio-1.24.3-cp37-cp37m-manylinux2010_x86_64.whl (2.2MB)\n",
            "\u001b[K     |████████████████████████████████| 2.2MB 6.5MB/s \n",
            "\u001b[?25hRequirement already satisfied: six>=1.5.2 in /usr/local/lib/python3.7/dist-packages (from grpcio==1.24.3) (1.15.0)\n",
            "\u001b[31mERROR: tensorflow 2.4.1 has requirement grpcio~=1.32.0, but you'll have grpcio 1.24.3 which is incompatible.\u001b[0m\n",
            "Installing collected packages: grpcio\n",
            "  Found existing installation: grpcio 1.32.0\n",
            "    Uninstalling grpcio-1.32.0:\n",
            "      Successfully uninstalled grpcio-1.32.0\n",
            "Successfully installed grpcio-1.24.3\n",
            "Collecting tensorflow==2.2.0\n",
            "\u001b[?25l  Downloading https://files.pythonhosted.org/packages/4c/1a/0d79814736cfecc825ab8094b39648cc9c46af7af1bae839928acb73b4dd/tensorflow-2.2.0-cp37-cp37m-manylinux2010_x86_64.whl (516.2MB)\n",
            "\u001b[K     |████████████████████████████████| 516.2MB 32kB/s \n",
            "\u001b[?25hRequirement already satisfied: absl-py>=0.7.0 in /usr/local/lib/python3.7/dist-packages (from tensorflow==2.2.0) (0.12.0)\n",
            "Requirement already satisfied: h5py<2.11.0,>=2.10.0 in /usr/local/lib/python3.7/dist-packages (from tensorflow==2.2.0) (2.10.0)\n",
            "Requirement already satisfied: gast==0.3.3 in /usr/local/lib/python3.7/dist-packages (from tensorflow==2.2.0) (0.3.3)\n",
            "Requirement already satisfied: keras-preprocessing>=1.1.0 in /usr/local/lib/python3.7/dist-packages (from tensorflow==2.2.0) (1.1.2)\n",
            "Requirement already satisfied: wrapt>=1.11.1 in /usr/local/lib/python3.7/dist-packages (from tensorflow==2.2.0) (1.12.1)\n",
            "Requirement already satisfied: opt-einsum>=2.3.2 in /usr/local/lib/python3.7/dist-packages (from tensorflow==2.2.0) (3.3.0)\n",
            "Collecting tensorflow-estimator<2.3.0,>=2.2.0\n",
            "\u001b[?25l  Downloading https://files.pythonhosted.org/packages/a4/f5/926ae53d6a226ec0fda5208e0e581cffed895ccc89e36ba76a8e60895b78/tensorflow_estimator-2.2.0-py2.py3-none-any.whl (454kB)\n",
            "\u001b[K     |████████████████████████████████| 460kB 50.7MB/s \n",
            "\u001b[?25hRequirement already satisfied: scipy==1.4.1; python_version >= \"3\" in /usr/local/lib/python3.7/dist-packages (from tensorflow==2.2.0) (1.4.1)\n",
            "Requirement already satisfied: protobuf>=3.8.0 in /usr/local/lib/python3.7/dist-packages (from tensorflow==2.2.0) (3.12.4)\n",
            "Requirement already satisfied: six>=1.12.0 in /usr/local/lib/python3.7/dist-packages (from tensorflow==2.2.0) (1.15.0)\n",
            "Requirement already satisfied: termcolor>=1.1.0 in /usr/local/lib/python3.7/dist-packages (from tensorflow==2.2.0) (1.1.0)\n",
            "Requirement already satisfied: grpcio>=1.8.6 in /usr/local/lib/python3.7/dist-packages (from tensorflow==2.2.0) (1.24.3)\n",
            "Collecting tensorboard<2.3.0,>=2.2.0\n",
            "\u001b[?25l  Downloading https://files.pythonhosted.org/packages/1d/74/0a6fcb206dcc72a6da9a62dd81784bfdbff5fedb099982861dc2219014fb/tensorboard-2.2.2-py3-none-any.whl (3.0MB)\n",
            "\u001b[K     |████████████████████████████████| 3.0MB 45.5MB/s \n",
            "\u001b[?25hRequirement already satisfied: wheel>=0.26; python_version >= \"3\" in /usr/local/lib/python3.7/dist-packages (from tensorflow==2.2.0) (0.36.2)\n",
            "Requirement already satisfied: numpy<2.0,>=1.16.0 in /usr/local/lib/python3.7/dist-packages (from tensorflow==2.2.0) (1.19.5)\n",
            "Requirement already satisfied: astunparse==1.6.3 in /usr/local/lib/python3.7/dist-packages (from tensorflow==2.2.0) (1.6.3)\n",
            "Requirement already satisfied: google-pasta>=0.1.8 in /usr/local/lib/python3.7/dist-packages (from tensorflow==2.2.0) (0.2.0)\n",
            "Requirement already satisfied: setuptools in /usr/local/lib/python3.7/dist-packages (from protobuf>=3.8.0->tensorflow==2.2.0) (54.2.0)\n",
            "Requirement already satisfied: markdown>=2.6.8 in /usr/local/lib/python3.7/dist-packages (from tensorboard<2.3.0,>=2.2.0->tensorflow==2.2.0) (3.3.4)\n",
            "Requirement already satisfied: google-auth<2,>=1.6.3 in /usr/local/lib/python3.7/dist-packages (from tensorboard<2.3.0,>=2.2.0->tensorflow==2.2.0) (1.28.1)\n",
            "Requirement already satisfied: tensorboard-plugin-wit>=1.6.0 in /usr/local/lib/python3.7/dist-packages (from tensorboard<2.3.0,>=2.2.0->tensorflow==2.2.0) (1.8.0)\n",
            "Requirement already satisfied: werkzeug>=0.11.15 in /usr/local/lib/python3.7/dist-packages (from tensorboard<2.3.0,>=2.2.0->tensorflow==2.2.0) (1.0.1)\n",
            "Requirement already satisfied: requests<3,>=2.21.0 in /usr/local/lib/python3.7/dist-packages (from tensorboard<2.3.0,>=2.2.0->tensorflow==2.2.0) (2.23.0)\n",
            "Requirement already satisfied: google-auth-oauthlib<0.5,>=0.4.1 in /usr/local/lib/python3.7/dist-packages (from tensorboard<2.3.0,>=2.2.0->tensorflow==2.2.0) (0.4.4)\n",
            "Requirement already satisfied: importlib-metadata; python_version < \"3.8\" in /usr/local/lib/python3.7/dist-packages (from markdown>=2.6.8->tensorboard<2.3.0,>=2.2.0->tensorflow==2.2.0) (3.10.1)\n",
            "Requirement already satisfied: cachetools<5.0,>=2.0.0 in /usr/local/lib/python3.7/dist-packages (from google-auth<2,>=1.6.3->tensorboard<2.3.0,>=2.2.0->tensorflow==2.2.0) (4.2.1)\n",
            "Requirement already satisfied: rsa<5,>=3.1.4; python_version >= \"3.6\" in /usr/local/lib/python3.7/dist-packages (from google-auth<2,>=1.6.3->tensorboard<2.3.0,>=2.2.0->tensorflow==2.2.0) (4.7.2)\n",
            "Requirement already satisfied: pyasn1-modules>=0.2.1 in /usr/local/lib/python3.7/dist-packages (from google-auth<2,>=1.6.3->tensorboard<2.3.0,>=2.2.0->tensorflow==2.2.0) (0.2.8)\n",
            "Requirement already satisfied: certifi>=2017.4.17 in /usr/local/lib/python3.7/dist-packages (from requests<3,>=2.21.0->tensorboard<2.3.0,>=2.2.0->tensorflow==2.2.0) (2020.12.5)\n",
            "Requirement already satisfied: idna<3,>=2.5 in /usr/local/lib/python3.7/dist-packages (from requests<3,>=2.21.0->tensorboard<2.3.0,>=2.2.0->tensorflow==2.2.0) (2.10)\n",
            "Requirement already satisfied: urllib3!=1.25.0,!=1.25.1,<1.26,>=1.21.1 in /usr/local/lib/python3.7/dist-packages (from requests<3,>=2.21.0->tensorboard<2.3.0,>=2.2.0->tensorflow==2.2.0) (1.24.3)\n",
            "Requirement already satisfied: chardet<4,>=3.0.2 in /usr/local/lib/python3.7/dist-packages (from requests<3,>=2.21.0->tensorboard<2.3.0,>=2.2.0->tensorflow==2.2.0) (3.0.4)\n",
            "Requirement already satisfied: requests-oauthlib>=0.7.0 in /usr/local/lib/python3.7/dist-packages (from google-auth-oauthlib<0.5,>=0.4.1->tensorboard<2.3.0,>=2.2.0->tensorflow==2.2.0) (1.3.0)\n",
            "Requirement already satisfied: typing-extensions>=3.6.4; python_version < \"3.8\" in /usr/local/lib/python3.7/dist-packages (from importlib-metadata; python_version < \"3.8\"->markdown>=2.6.8->tensorboard<2.3.0,>=2.2.0->tensorflow==2.2.0) (3.7.4.3)\n",
            "Requirement already satisfied: zipp>=0.5 in /usr/local/lib/python3.7/dist-packages (from importlib-metadata; python_version < \"3.8\"->markdown>=2.6.8->tensorboard<2.3.0,>=2.2.0->tensorflow==2.2.0) (3.4.1)\n",
            "Requirement already satisfied: pyasn1>=0.1.3 in /usr/local/lib/python3.7/dist-packages (from rsa<5,>=3.1.4; python_version >= \"3.6\"->google-auth<2,>=1.6.3->tensorboard<2.3.0,>=2.2.0->tensorflow==2.2.0) (0.4.8)\n",
            "Requirement already satisfied: oauthlib>=3.0.0 in /usr/local/lib/python3.7/dist-packages (from requests-oauthlib>=0.7.0->google-auth-oauthlib<0.5,>=0.4.1->tensorboard<2.3.0,>=2.2.0->tensorflow==2.2.0) (3.1.0)\n",
            "Installing collected packages: tensorflow-estimator, tensorboard, tensorflow\n",
            "  Found existing installation: tensorflow-estimator 2.4.0\n",
            "    Uninstalling tensorflow-estimator-2.4.0:\n",
            "      Successfully uninstalled tensorflow-estimator-2.4.0\n",
            "  Found existing installation: tensorboard 2.4.1\n",
            "    Uninstalling tensorboard-2.4.1:\n",
            "      Successfully uninstalled tensorboard-2.4.1\n",
            "  Found existing installation: tensorflow 2.4.1\n",
            "    Uninstalling tensorflow-2.4.1:\n",
            "      Successfully uninstalled tensorflow-2.4.1\n",
            "Successfully installed tensorboard-2.2.2 tensorflow-2.2.0 tensorflow-estimator-2.2.0\n",
            "Requirement already satisfied: pillow in /usr/local/lib/python3.7/dist-packages (7.1.2)\n"
          ],
          "name": "stdout"
        }
      ]
    },
    {
      "cell_type": "markdown",
      "metadata": {
        "id": "tzzFLumkluEt"
      },
      "source": [
        "<b>Notice:</b> This notebook has been created with TensorFlow version 2.2, and might not work with other versions. Therefore we check:\n"
      ]
    },
    {
      "cell_type": "code",
      "metadata": {
        "id": "chkOqlKDluEv"
      },
      "source": [
        "import tensorflow as tf\n",
        "from IPython.display import Markdown, display\n",
        "\n",
        "def printmd(string):\n",
        "    display(Markdown('# <span style=\"color:red\">'+string+'</span>'))\n",
        "\n",
        "\n",
        "if not tf.__version__ == '2.2.0':\n",
        "    printmd('<<<<<!!!!! ERROR !!!! please upgrade to TensorFlow 2.2.0, or restart your Kernel (Kernel->Restart & Clear Output)>>>>>')"
      ],
      "execution_count": null,
      "outputs": []
    },
    {
      "cell_type": "markdown",
      "metadata": {
        "id": "IS0bs76aluEx"
      },
      "source": [
        "Now, we load in all the packages that we use to create the net including the TensorFlow package:\n"
      ]
    },
    {
      "cell_type": "code",
      "metadata": {
        "id": "myJ80Q1BluEz"
      },
      "source": [
        "import tensorflow as tf\n",
        "import numpy as np\n",
        "\n",
        "from PIL import Image\n",
        "from utils import tile_raster_images\n",
        "import matplotlib.pyplot as plt\n",
        "%matplotlib inline"
      ],
      "execution_count": null,
      "outputs": []
    },
    {
      "cell_type": "markdown",
      "metadata": {
        "id": "l0xN_gkBluE1"
      },
      "source": [
        "<hr>\n"
      ]
    },
    {
      "cell_type": "markdown",
      "metadata": {
        "id": "tM_ihF6PluE2"
      },
      "source": [
        "# <a id=\"ref2\"></a>\n",
        "\n",
        "#**RBM layers**\n",
        "\n",
        "An RBM has two layers. The first layer of the RBM is called the <b>visible</b> (or input layer). Imagine the input with 7 nodes. The second layer is the <b>hidden</b> layer, which has $H$ neurons in our case. Each hidden node takes on values of either 0 or 1 (i.e., $h_i = 1$ or $h_i$ = 0), with a probability that is a logistic function of the inputs it receives from the other $V$ visible units, called for example, $p(h_i = 1)$. \n",
        "\n",
        "<center><img src=\"https://ibm.box.com/shared/static/eu26opvcefgls6vnwuo29uwp0nudmokh.png\" alt=\"RBM Model\" style=\"width: 400px;\"></center>\n"
      ]
    },
    {
      "cell_type": "markdown",
      "metadata": {
        "id": "A9A7CHzfluE5"
      },
      "source": [
        "We have to define weights among the input layer and hidden layer nodes. In the weight matrix, the number of rows are equal to the input nodes, and the number of columns are equal to the output nodes. We define a tensor $\\mathbf{W}$ of shape = (7,2), where the number of visible neurons = 7, and the number of hidden neurons = 2. \n"
      ]
    },
    {
      "cell_type": "markdown",
      "metadata": {
        "id": "sK_EhDi7luE7"
      },
      "source": [
        "<hr>\n"
      ]
    },
    {
      "cell_type": "markdown",
      "metadata": {
        "id": "FdO8mPsqluE8"
      },
      "source": [
        "<a id=\"ref3\"></a>\n",
        "\n",
        "#**What RBM can do after training?**\n",
        "Think of RBM as a model that has been trained based on images of a dataset of many SUV and sedan cars. Also, imagine that the RBM network has only two hidden nodes, where one node encodes the weight and, and the other encodes the size.  \n",
        "In a sense, the different configurations represent different cars, where one is an SUV and the other is Sedan.  In a training process, through many forward and backward passes, the RBM adjust its weights to send a stronger signal to either the SUV node (0, 1) or the sedan node (1, 0) in the hidden layer, given the pixels of images. Now, given an SUV in hidden layer, which distribution of pixels should we expect? RBM can give you 2 things. First, it encodes your images in hidden layer. Second, it gives you the probability of observing a case, given some hidden values.\n",
        "\n",
        "<h3>The Inference Process</h3>\n",
        "\n",
        "RBM has two phases:\n",
        "\n",
        "<ul>\n",
        "    <li>Forward Pass</li>  \n",
        "    <li>Backward Pass or Reconstruction</li>\n",
        "</ul>\n",
        "\n",
        "<b>Phase 1) Forward pass:</b>  \n",
        "\n",
        "First, the probability vector is computed using the input feature vector $\\mathbf{x}$, the weight matrix $\\mathbf{W}$, and the bias term $h_{bias}$, as \n",
        "\n",
        "$p({h_j}|\\mathbf x)= \\sigma(\\sum_{i=1}^V W_{ij} x_i + h_{bias} )$, \n",
        "\n",
        "where $\\sigma(z) = (1+e^{-z})^{-1}$ is the logistic function.\n",
        "\n",
        "$p({h_j})$ is the <b>probability distribution</b> of the hidden units. That is, RBM uses inputs $x_i$ to make predictions about hidden node activations. For example, imagine that the hidden node activation values are [0.51 0.84] for the first training item. It tells you that the conditional probability for each hidden neuron for Phase 1 is: \n",
        "\n",
        "$$p(h_{1} = 1|\\mathbf{v}) = 0.51$$\n",
        "$$p(h_{2} = 1|\\mathbf{v}) = 0.84$$\n",
        "\n",
        "As a result, for each row in the training set, vector of probabilities is generated.\n",
        "\n",
        "We then turn unit $j$ with probability $p(h_{j}|\\mathbf{v})$, and turn it off with probability $1 - p(h_{j}|\\mathbf{v})$ by generating a uniform random number vector $\\mathbf{\\xi}$, and comparing it to the activation probability as \n",
        "\n",
        "<center>If $\\xi_j<p(h_{j}|\\mathbf{v})$, then $h_j=1$, else $h_j=0$.</center>\n",
        "\n",
        "Therefore, the conditional probability of a configuration of $\\mathbf{h}$ given $\\mathbf{v}$ (for a training sample) is:\n",
        "\n",
        "$$p(\\mathbf{h} \\mid \\mathbf{v}) = \\prod_{j=1}^H p(h_j \\mid \\mathbf{v})$$\n",
        "\n",
        "where $H$ is the number of hidden units.\n"
      ]
    },
    {
      "cell_type": "markdown",
      "metadata": {
        "id": "abGdMF5SluE-"
      },
      "source": [
        "Consider an example, assume that we have a trained RBM, and a very simple input vector, such as [1.0, 0.0, 0.0, 1.0, 0.0, 0.0, 0.0].  \n",
        "Let's see what the output of forward pass would look like:\n"
      ]
    },
    {
      "cell_type": "code",
      "metadata": {
        "id": "0tQ3yR9QluE4"
      },
      "source": [
        "v_bias = tf.Variable(tf.zeros([7]), tf.float32)\n",
        "h_bias = tf.Variable(tf.zeros([2]), tf.float32)"
      ],
      "execution_count": null,
      "outputs": []
    },
    {
      "cell_type": "code",
      "metadata": {
        "id": "KPEM8pPWluE6"
      },
      "source": [
        "W = tf.constant(np.random.normal(loc=0.0, scale=1.0, size=(7, 2)).astype(np.float32))"
      ],
      "execution_count": null,
      "outputs": []
    },
    {
      "cell_type": "code",
      "metadata": {
        "id": "rOwDfvElvgOF",
        "outputId": "00936178-b79d-40d0-b264-b756c536c43a"
      },
      "source": [
        "#Forward Pass\n",
        "X = tf.constant([[1.0, 0.0, 0.0, 1.0, 0.0, 0.0, 0.0]], tf.float32)\n",
        "v_state = X\n",
        "h_bias = tf.constant([0.1,0.1])\n",
        "\n",
        "W = tf.constant(np.random.normal(0.0,1.0,size =(7,2)).astype(np.float32))\n",
        "h_prob = tf.nn.sigmoid(tf.matmul(v_state,W)+h_bias)\n",
        "xi = tf.random.uniform(tf.shape(h_prob))\n",
        "h_state = tf.nn.relu(tf.sign(h_prob - xi))\n",
        "\n",
        "print('Input : ',v_state.numpy()[0])\n",
        "print('p(h|v) : ',h_prob.numpy()[0])\n",
        "print('xi : ',xi.numpy()[0])\n",
        "print('is xi < p(h|v) :',(xi<h_prob).numpy()[0])\n",
        "print('h states : ',h_state.numpy()[0])"
      ],
      "execution_count": null,
      "outputs": [
        {
          "output_type": "stream",
          "text": [
            "Input :  [1. 0. 0. 1. 0. 0. 0.]\n",
            "p(h|v) :  [0.03479123 0.16215788]\n",
            "xi :  [0.65449166 0.2103939 ]\n",
            "is xi < p(h|v) : [False False]\n",
            "h states :  [0. 0.]\n"
          ],
          "name": "stdout"
        }
      ]
    },
    {
      "cell_type": "markdown",
      "metadata": {
        "id": "XdJ4ac7lluFD"
      },
      "source": [
        "<b>Phase 2) Backward Pass (Reconstruction):</b>\n",
        "The RBM reconstructs data by making several forward and backward passes between the visible and hidden layers.\n",
        "\n",
        "So, in the second phase (i.e. reconstruction phase), the samples from the hidden layer (i.e. $\\mathbf h$) becomes the input in the backward pass. The same weight matrix and visible layer biases are used to passed to the sigmoid function. The reproduced output is a reconstruction which is an approximation of the original input.\n"
      ]
    },
    {
      "cell_type": "code",
      "metadata": {
        "colab": {
          "base_uri": "https://localhost:8080/"
        },
        "id": "7eMPxyhbluFF",
        "outputId": "46a7bd47-7036-4b63-c4af-7df80adb1b2c"
      },
      "source": [
        "#Backward Pass\n",
        "v_bias = tf.constant([0.1, 0.2, 0.1, 0.1, 0.1, 0.2, 0.1])\n",
        "v_prob = tf.sigmoid(tf.matmul(h_state,tf.transpose(W))+v_bias)\n",
        "v_state = tf.nn.relu(tf.sign(v_prob - tf.random.uniform(tf.shape(v_prob))))\n",
        "\n",
        "print('p(vi|h) = ',v_prob.numpy()[0])\n",
        "print('v probability states : ',v_state.numpy()[0])"
      ],
      "execution_count": null,
      "outputs": [
        {
          "output_type": "stream",
          "text": [
            "p(vi|h) =  [0.5249792  0.54983395 0.5249792  0.5249792  0.5249792  0.54983395\n",
            " 0.5249792 ]\n",
            "v probability states :  [1. 0. 0. 0. 0. 1. 1.]\n"
          ],
          "name": "stdout"
        }
      ]
    },
    {
      "cell_type": "markdown",
      "metadata": {
        "id": "7MDbioeRluFI"
      },
      "source": [
        "RBM learns a probability distribution over the input, and then, after being trained, the RBM can generate new samples from the learned probability distribution. As you know, <b>probability distribution</b>, is a mathematical function that provides the probabilities of occurrence of different possible outcomes in an experiment.\n",
        "\n",
        "The (conditional) probability distribution over the visible units v is given by\n",
        "\n",
        "$p(\\mathbf{v} \\mid \\mathbf{h}) = \\prod_{i=1}^V p(v_i \\mid \\mathbf{h}),$\n",
        "\n",
        "where,\n",
        "\n",
        "$p(v_i \\mid \\mathbf{h}) = \\sigma\\left(\\sum_{j=1}^H W_{ji} h_j + v_{bias} \\right)$\n",
        "\n",
        "so, given current state of hidden units and weights, what is the probability of generating [1. 0. 0. 1. 0. 0. 0.] in reconstruction phase, based on the above <b>probability distribution</b> function?\n"
      ]
    },
    {
      "cell_type": "code",
      "metadata": {
        "colab": {
          "base_uri": "https://localhost:8080/"
        },
        "id": "GR-FYazRluFJ",
        "outputId": "6a8ead7f-47c8-4459-c203-e1a559e34945"
      },
      "source": [
        "#probability of generating input is the prob that all the elements of input are equal to 1 (NOTE: INPUT AND HIDDEN STATES ARE BINARY)\n",
        "\n",
        "inp = X\n",
        "print(\"input X:\" , inp.numpy())\n",
        "\n",
        "print(\"p(vi|h) = \" , v_prob[0].numpy())\n",
        "v_probability = 1\n",
        "\n",
        "for elm, p in zip(inp[0],v_prob[0]) :\n",
        "    if elm ==1:\n",
        "        v_probability *= p\n",
        "    else:\n",
        "        v_probability *= (1-p)\n",
        "\n",
        "print(\"p(v) =  \" , v_probability.numpy())"
      ],
      "execution_count": null,
      "outputs": [
        {
          "output_type": "stream",
          "text": [
            "input X: [[1. 0. 0. 1. 0. 0. 0.]]\n",
            "p(vi|h) =  [0.5249792  0.54983395 0.5249792  0.5249792  0.5249792  0.54983395\n",
            " 0.5249792 ]\n",
            "p(v) =   0.0059864256\n"
          ],
          "name": "stdout"
        }
      ]
    },
    {
      "cell_type": "markdown",
      "metadata": {
        "id": "i8wm4nDvluFL"
      },
      "source": [
        "<hr>\n"
      ]
    },
    {
      "cell_type": "markdown",
      "metadata": {
        "id": "M8lpIsLoluFM"
      },
      "source": [
        "#**RBM IMPLEMENTATION ON MNIST DATA**\n"
      ]
    },
    {
      "cell_type": "markdown",
      "metadata": {
        "id": "CrUd_V8jluFM"
      },
      "source": [
        "We will be using the MNIST dataset to practice the usage of RBMs. The following cell loads the MNIST dataset.\n"
      ]
    },
    {
      "cell_type": "code",
      "metadata": {
        "id": "VS_VXLqiluFN"
      },
      "source": [
        "#loading training and test data\n",
        "mnist = tf.keras.datasets.mnist\n",
        "(trX, trY), (teX, teY) = mnist.load_data()\n",
        "\n",
        "# showing an example of the Flatten class and operation\n",
        "from tensorflow.keras.layers import Flatten\n",
        "flatten = Flatten(dtype='float32')\n",
        "trX = flatten(trX/255.0)\n",
        "trY = flatten(trY/255.0)"
      ],
      "execution_count": null,
      "outputs": []
    },
    {
      "cell_type": "markdown",
      "metadata": {
        "id": "dqtcuBhbluFO"
      },
      "source": [
        "Lets look at the dimension of the images.\n"
      ]
    },
    {
      "cell_type": "markdown",
      "metadata": {
        "id": "W5TpHGHAluFP"
      },
      "source": [
        "MNIST images have 784 pixels, so the visible layer must have 784 input nodes.  For our case, we'll use 50 nodes in the hidden layer, so i = 50.\n"
      ]
    },
    {
      "cell_type": "code",
      "metadata": {
        "id": "z5dCR-WyluFQ",
        "jupyter": {
          "outputs_hidden": true
        }
      },
      "source": [
        "vb = tf.Variable(tf.zeros([784]), tf.float32)\n",
        "hb = tf.Variable(tf.zeros([50]), tf.float32)"
      ],
      "execution_count": null,
      "outputs": []
    },
    {
      "cell_type": "markdown",
      "metadata": {
        "id": "mVyw4jyzluFR"
      },
      "source": [
        "Let $\\mathbf W$ be the Tensor of 784x50 (784 - number of visible neurons, 50 - number of hidden neurons) that represents weights between the neurons. \n"
      ]
    },
    {
      "cell_type": "code",
      "metadata": {
        "id": "6Q5LDFyXluFR",
        "jupyter": {
          "outputs_hidden": true
        }
      },
      "source": [
        "W = tf.Variable(tf.zeros([784,50]), tf.float32)"
      ],
      "execution_count": null,
      "outputs": []
    },
    {
      "cell_type": "markdown",
      "metadata": {
        "id": "z-WGgoPxluFS"
      },
      "source": [
        "Lets define the visible layer:\n"
      ]
    },
    {
      "cell_type": "code",
      "metadata": {
        "colab": {
          "base_uri": "https://localhost:8080/"
        },
        "id": "DY0rSL7hluFU",
        "outputId": "b358c8ea-095c-4276-a090-d7b80bf8ef94"
      },
      "source": [
        "v0_state = tf.Variable(tf.zeros([784]), tf.float32)\n",
        "\n",
        "#testing to see if the matrix product works\n",
        "tf.matmul( [v0_state], W)"
      ],
      "execution_count": null,
      "outputs": [
        {
          "output_type": "execute_result",
          "data": {
            "text/plain": [
              "<tf.Tensor: shape=(1, 50), dtype=float32, numpy=\n",
              "array([[0., 0., 0., 0., 0., 0., 0., 0., 0., 0., 0., 0., 0., 0., 0., 0.,\n",
              "        0., 0., 0., 0., 0., 0., 0., 0., 0., 0., 0., 0., 0., 0., 0., 0.,\n",
              "        0., 0., 0., 0., 0., 0., 0., 0., 0., 0., 0., 0., 0., 0., 0., 0.,\n",
              "        0., 0.]], dtype=float32)>"
            ]
          },
          "metadata": {
            "tags": []
          },
          "execution_count": 18
        }
      ]
    },
    {
      "cell_type": "markdown",
      "metadata": {
        "id": "7naCMvJDluFU"
      },
      "source": [
        "Now, we can define hidden layer:\n"
      ]
    },
    {
      "cell_type": "code",
      "metadata": {
        "colab": {
          "base_uri": "https://localhost:8080/"
        },
        "id": "PRp93rEUluFV",
        "outputId": "db8bda4c-93bc-430e-b730-b4d89fa82cf9"
      },
      "source": [
        "#computing the hidden nodes probability vector and checking shape\n",
        "h0_prob = tf.nn.sigmoid(tf.matmul([v0_state], W) + hb)  #probabilities of the hidden units\n",
        "print(\"h0_state shape: \" , tf.shape(h0_prob))\n",
        "\n",
        "#defining a function to return only the generated hidden states \n",
        "def hidden_layer(v0_state, W, hb):\n",
        "    h0_prob = tf.nn.sigmoid(tf.matmul([v0_state], W) + hb)  #probabilities of the hidden units\n",
        "    h0_state = tf.nn.relu(tf.sign(h0_prob - tf.random.uniform(tf.shape(h0_prob)))) #sample_h_given_X\n",
        "    return h0_state\n",
        "\n",
        "\n",
        "h0_state = hidden_layer(v0_state, W, hb)\n",
        "print(\"first 15 hidden states: \", h0_state[0][0:15])"
      ],
      "execution_count": null,
      "outputs": [
        {
          "output_type": "stream",
          "text": [
            "h0_state shape:  tf.Tensor([ 1 50], shape=(2,), dtype=int32)\n",
            "first 15 hidden states:  tf.Tensor([0. 1. 0. 0. 0. 0. 1. 0. 1. 0. 1. 1. 1. 0. 0.], shape=(15,), dtype=float32)\n"
          ],
          "name": "stdout"
        }
      ]
    },
    {
      "cell_type": "markdown",
      "metadata": {
        "id": "WcKW0LBGluFW"
      },
      "source": [
        "Now, we define reconstruction part:\n"
      ]
    },
    {
      "cell_type": "code",
      "metadata": {
        "colab": {
          "base_uri": "https://localhost:8080/"
        },
        "id": "Yxge4FeJluFX",
        "outputId": "db51e250-ac82-42a9-bca0-de196ed72e11"
      },
      "source": [
        "def reconstructed_output(h0_state, W, vb):\n",
        "    v1_prob = tf.nn.sigmoid(tf.matmul(h0_state, tf.transpose(W)) + vb) \n",
        "    v1_state = tf.nn.relu(tf.sign(v1_prob - tf.random.uniform(tf.shape(v1_prob)))) #sample_v_given_h\n",
        "    return v1_state[0]\n",
        "\n",
        "v1_state = reconstructed_output(h0_state, W, vb)\n",
        "print(\"hidden state shape: \", h0_state.shape)\n",
        "print(\"v0 state shape:  \", v0_state.shape)\n",
        "print(\"v1 state shape:  \", v1_state.shape)"
      ],
      "execution_count": null,
      "outputs": [
        {
          "output_type": "stream",
          "text": [
            "hidden state shape:  (1, 50)\n",
            "v0 state shape:   (784,)\n",
            "v1 state shape:   (784,)\n"
          ],
          "name": "stdout"
        }
      ]
    },
    {
      "cell_type": "markdown",
      "metadata": {
        "id": "qaKLLJDiluFY"
      },
      "source": [
        "#**Objective function**\n",
        "\n",
        "<b>Goal</b>: Maximize the likelihood of our data being drawn from that distribution\n",
        "\n",
        "<b>Calculate error:</b>  \n",
        "In each epoch, we compute the \"error\" as a sum of the squared difference between step 1 and step n,\n",
        "e.g the error shows the difference between the data and its reconstruction.\n",
        "\n"
      ]
    },
    {
      "cell_type": "code",
      "metadata": {
        "colab": {
          "base_uri": "https://localhost:8080/"
        },
        "id": "YRTVJG3XluFZ",
        "outputId": "7f3377dc-7929-454b-ad5b-889383845986"
      },
      "source": [
        "def error(v0_state, v1_state):\n",
        "    return tf.reduce_mean(tf.square(v0_state - v1_state))\n",
        "'''\n",
        "err = tf.reduce_mean(tf.square(v0_state - v1_state))\n",
        "print(\"error\" , err.numpy())\n",
        "'''"
      ],
      "execution_count": null,
      "outputs": [
        {
          "output_type": "execute_result",
          "data": {
            "text/plain": [
              "'\\nerr = tf.reduce_mean(tf.square(v0_state - v1_state))\\nprint(\"error\" , err.numpy())\\n'"
            ]
          },
          "metadata": {
            "tags": []
          },
          "execution_count": 22
        }
      ]
    },
    {
      "cell_type": "markdown",
      "metadata": {
        "id": "Qln4ti0rluFZ"
      },
      "source": [
        "\n",
        "#**Gibbs Sampling**\n",
        "\n",
        "<h4>Gibbs Sampling Step 1</h4> \n",
        "Given an input vector $\\mathbf{v}$, we are using $p(\\mathbf{h}|\\mathbf{v})$ to predict the hidden values $\\mathbf{h}$. \n",
        "  $$p({h_j}|\\mathbf v)= \\sigma\\left(\\sum_{i=1}^V W_{ij} v_i + h_{bias} \\right)$$\n",
        "The samples are generated from this distribution by generating the uniform random variate vector $\\mathbf{\\xi} \\sim U[0,1]$ of length $H$ and comparing to the computed probabilities as\n",
        "\n",
        "<center>If $\\xi_j<p(h_{j}|\\mathbf{v})$, then $h_j=1$, else $h_j=0$.</center>\n",
        "\n",
        "<h4>Gibbs Sampling Step 2</h4> \n",
        "Then, knowing the hidden values, we use $p(\\mathbf v| \\mathbf h)$ for reconstructing of new input values v. \n",
        "\n",
        "   $$p({v_i}|\\mathbf h)= \\sigma\\left(\\sum_{j=1}^H W^{T}_{ij} h_j + v_{bias} \\right)$$\n",
        "\n",
        "The samples are generated from this distribution by generating a uniform random variate vector $\\mathbf{\\xi} \\sim U[0,1]$ of length $V$ and comparing to the computed probabilities as\n",
        "\n",
        "<center>If $\\xi_i<p(v_{i}|\\mathbf{h})$, then $v_i=1$, else $v_i=0$.</center>\n",
        "\n",
        "Let vectors $\\mathbf v_k$ and $\\mathbf h_k$ be for the $k$th iteration.  In general, the $kth$ state is generrated as: \n",
        "\n",
        "<b>Iteration</b> $k$: \n",
        "\n",
        "$$\\mathbf v_{k-1} \\Rightarrow p(\\mathbf h_{k-1}|\\mathbf v_{k-1})\\Rightarrow \\mathbf h_{k-1}\\Rightarrow p(\\mathbf v_{k}|\\mathbf h_{k-1})\\Rightarrow \\mathbf v_k$$       \n",
        "\n",
        "<h3>Contrastive Divergence (CD-k)</h3>\n",
        "The update of the weight matrix is done during the Contrastive Divergence step. \n",
        "\n",
        "Vectors v0 and vk are used to calculate the activation probabilities for hidden values h0 and hk. The difference between the outer products of those probabilities with input vectors v0 and vk results in the update matrix:\n",
        "\n",
        "$\\Delta \\mathbf W_k =\\mathbf v_k \\otimes \\mathbf h_k - \\mathbf v_{k-1} \\otimes \\mathbf h_{k-1}$ \n",
        "\n",
        "Contrastive Divergence is actually matrix of values that is computed and used to adjust values of the $\\mathbf W$ matrix. Changing $\\mathbf W$ incrementally leads to training of the  $\\mathbf W$ values. Then, on each step (epoch), $\\mathbf W$ is updated using the following:\n",
        "\n",
        "$\\mathbf W_k = \\mathbf W_{k-1} + \\alpha * \\Delta \\mathbf W_k$ \n",
        "\n"
      ]
    },
    {
      "cell_type": "code",
      "metadata": {
        "id": "cOwvIykXluFc"
      },
      "source": [
        "h1_prob = tf.nn.sigmoid(tf.matmul([v1_state], W) + hb)\n",
        "h1_state = tf.nn.relu(tf.sign(h1_prob - tf.random.uniform(tf.shape(h1_prob)))) #sample_h_given_X"
      ],
      "execution_count": null,
      "outputs": []
    },
    {
      "cell_type": "markdown",
      "metadata": {
        "id": "7-7L05MtluFd"
      },
      "source": [
        "Lets look at the error of the first run:\n"
      ]
    },
    {
      "cell_type": "code",
      "metadata": {
        "colab": {
          "base_uri": "https://localhost:8080/"
        },
        "id": "xQTtcfFpluFd",
        "outputId": "078389d6-1215-44a4-d681-110c500ffb12"
      },
      "source": [
        "print(\"error: \", error(v0_state, v1_state))"
      ],
      "execution_count": null,
      "outputs": [
        {
          "output_type": "stream",
          "text": [
            "error:  tf.Tensor(0.52933675, shape=(), dtype=float32)\n"
          ],
          "name": "stdout"
        }
      ]
    },
    {
      "cell_type": "code",
      "metadata": {
        "colab": {
          "base_uri": "https://localhost:8080/"
        },
        "id": "eLuy4vQTluFe",
        "outputId": "e3fc83a7-2d77-480e-ebe6-22da07105897"
      },
      "source": [
        "#Parameters\n",
        "alpha = 0.01\n",
        "epochs = 1\n",
        "batchsize = 200\n",
        "weights = []\n",
        "errors = []\n",
        "batch_number = 0\n",
        "K = 1\n",
        "\n",
        "#creating datasets\n",
        "train_ds = \\\n",
        "    tf.data.Dataset.from_tensor_slices((trX, trY)).batch(batchsize)\n",
        "\n",
        "for epoch in range(epochs):\n",
        "    for batch_x, batch_y in train_ds:\n",
        "        batch_number += 1\n",
        "        for i_sample in range(batchsize):           \n",
        "            for k in range(K):\n",
        "                v0_state = batch_x[i_sample]\n",
        "                h0_state = hidden_layer(v0_state, W, hb)\n",
        "                v1_state = reconstructed_output(h0_state, W, vb)\n",
        "                h1_state = hidden_layer(v1_state, W, hb)\n",
        "\n",
        "                delta_W = tf.matmul(tf.transpose([v0_state]), h0_state) - tf.matmul(tf.transpose([v1_state]), h1_state)\n",
        "                W = W + alpha * delta_W\n",
        "\n",
        "                vb = vb + alpha * tf.reduce_mean(v0_state - v1_state, 0)\n",
        "                hb = hb + alpha * tf.reduce_mean(h0_state - h1_state, 0) \n",
        "\n",
        "                v0_state = v1_state\n",
        "\n",
        "            if i_sample == batchsize-1:\n",
        "                err = error(batch_x[i_sample], v1_state)\n",
        "                errors.append(err)\n",
        "                weights.append(W)\n",
        "                print ( 'Epoch: %d' % epoch, \n",
        "                       \"batch #: %i \" % batch_number, \"of %i\" % int(60e3/batchsize), \n",
        "                       \"sample #: %i\" % i_sample,\n",
        "                       'reconstruction error: %f' % err)\n",
        "\n"
      ],
      "execution_count": null,
      "outputs": [
        {
          "output_type": "stream",
          "text": [
            "Epoch: 0 batch #: 1  of 300 sample #: 199 reconstruction error: 0.153629\n",
            "Epoch: 0 batch #: 2  of 300 sample #: 199 reconstruction error: 0.214964\n",
            "Epoch: 0 batch #: 3  of 300 sample #: 199 reconstruction error: 0.117193\n",
            "Epoch: 0 batch #: 4  of 300 sample #: 199 reconstruction error: 0.121685\n",
            "Epoch: 0 batch #: 5  of 300 sample #: 199 reconstruction error: 0.119511\n",
            "Epoch: 0 batch #: 6  of 300 sample #: 199 reconstruction error: 0.205661\n",
            "Epoch: 0 batch #: 7  of 300 sample #: 199 reconstruction error: 0.087013\n",
            "Epoch: 0 batch #: 8  of 300 sample #: 199 reconstruction error: 0.125276\n",
            "Epoch: 0 batch #: 9  of 300 sample #: 199 reconstruction error: 0.092099\n",
            "Epoch: 0 batch #: 10  of 300 sample #: 199 reconstruction error: 0.177222\n",
            "Epoch: 0 batch #: 11  of 300 sample #: 199 reconstruction error: 0.088540\n",
            "Epoch: 0 batch #: 12  of 300 sample #: 199 reconstruction error: 0.136295\n",
            "Epoch: 0 batch #: 13  of 300 sample #: 199 reconstruction error: 0.072687\n",
            "Epoch: 0 batch #: 14  of 300 sample #: 199 reconstruction error: 0.112101\n",
            "Epoch: 0 batch #: 15  of 300 sample #: 199 reconstruction error: 0.109419\n",
            "Epoch: 0 batch #: 16  of 300 sample #: 199 reconstruction error: 0.093182\n",
            "Epoch: 0 batch #: 17  of 300 sample #: 199 reconstruction error: 0.068905\n",
            "Epoch: 0 batch #: 18  of 300 sample #: 199 reconstruction error: 0.113767\n",
            "Epoch: 0 batch #: 19  of 300 sample #: 199 reconstruction error: 0.152245\n",
            "Epoch: 0 batch #: 20  of 300 sample #: 199 reconstruction error: 0.090912\n",
            "Epoch: 0 batch #: 21  of 300 sample #: 199 reconstruction error: 0.080875\n",
            "Epoch: 0 batch #: 22  of 300 sample #: 199 reconstruction error: 0.081756\n",
            "Epoch: 0 batch #: 23  of 300 sample #: 199 reconstruction error: 0.114546\n",
            "Epoch: 0 batch #: 24  of 300 sample #: 199 reconstruction error: 0.125244\n",
            "Epoch: 0 batch #: 25  of 300 sample #: 199 reconstruction error: 0.109448\n",
            "Epoch: 0 batch #: 26  of 300 sample #: 199 reconstruction error: 0.109611\n",
            "Epoch: 0 batch #: 27  of 300 sample #: 199 reconstruction error: 0.112084\n",
            "Epoch: 0 batch #: 28  of 300 sample #: 199 reconstruction error: 0.087792\n",
            "Epoch: 0 batch #: 29  of 300 sample #: 199 reconstruction error: 0.096959\n",
            "Epoch: 0 batch #: 30  of 300 sample #: 199 reconstruction error: 0.086107\n",
            "Epoch: 0 batch #: 31  of 300 sample #: 199 reconstruction error: 0.086567\n",
            "Epoch: 0 batch #: 32  of 300 sample #: 199 reconstruction error: 0.100641\n",
            "Epoch: 0 batch #: 33  of 300 sample #: 199 reconstruction error: 0.061503\n",
            "Epoch: 0 batch #: 34  of 300 sample #: 199 reconstruction error: 0.075775\n",
            "Epoch: 0 batch #: 35  of 300 sample #: 199 reconstruction error: 0.069508\n",
            "Epoch: 0 batch #: 36  of 300 sample #: 199 reconstruction error: 0.080987\n",
            "Epoch: 0 batch #: 37  of 300 sample #: 199 reconstruction error: 0.049818\n",
            "Epoch: 0 batch #: 38  of 300 sample #: 199 reconstruction error: 0.063545\n",
            "Epoch: 0 batch #: 39  of 300 sample #: 199 reconstruction error: 0.090221\n",
            "Epoch: 0 batch #: 40  of 300 sample #: 199 reconstruction error: 0.094862\n",
            "Epoch: 0 batch #: 41  of 300 sample #: 199 reconstruction error: 0.076712\n",
            "Epoch: 0 batch #: 42  of 300 sample #: 199 reconstruction error: 0.062838\n",
            "Epoch: 0 batch #: 43  of 300 sample #: 199 reconstruction error: 0.114189\n",
            "Epoch: 0 batch #: 44  of 300 sample #: 199 reconstruction error: 0.073141\n",
            "Epoch: 0 batch #: 45  of 300 sample #: 199 reconstruction error: 0.061417\n",
            "Epoch: 0 batch #: 46  of 300 sample #: 199 reconstruction error: 0.042576\n",
            "Epoch: 0 batch #: 47  of 300 sample #: 199 reconstruction error: 0.042691\n",
            "Epoch: 0 batch #: 48  of 300 sample #: 199 reconstruction error: 0.038251\n",
            "Epoch: 0 batch #: 49  of 300 sample #: 199 reconstruction error: 0.117445\n",
            "Epoch: 0 batch #: 50  of 300 sample #: 199 reconstruction error: 0.058556\n",
            "Epoch: 0 batch #: 51  of 300 sample #: 199 reconstruction error: 0.055363\n",
            "Epoch: 0 batch #: 52  of 300 sample #: 199 reconstruction error: 0.034465\n",
            "Epoch: 0 batch #: 53  of 300 sample #: 199 reconstruction error: 0.105662\n",
            "Epoch: 0 batch #: 54  of 300 sample #: 199 reconstruction error: 0.060442\n",
            "Epoch: 0 batch #: 55  of 300 sample #: 199 reconstruction error: 0.103547\n",
            "Epoch: 0 batch #: 56  of 300 sample #: 199 reconstruction error: 0.054090\n",
            "Epoch: 0 batch #: 57  of 300 sample #: 199 reconstruction error: 0.040646\n",
            "Epoch: 0 batch #: 58  of 300 sample #: 199 reconstruction error: 0.078089\n",
            "Epoch: 0 batch #: 59  of 300 sample #: 199 reconstruction error: 0.054450\n",
            "Epoch: 0 batch #: 60  of 300 sample #: 199 reconstruction error: 0.083220\n",
            "Epoch: 0 batch #: 61  of 300 sample #: 199 reconstruction error: 0.079086\n",
            "Epoch: 0 batch #: 62  of 300 sample #: 199 reconstruction error: 0.075501\n",
            "Epoch: 0 batch #: 63  of 300 sample #: 199 reconstruction error: 0.048223\n",
            "Epoch: 0 batch #: 64  of 300 sample #: 199 reconstruction error: 0.083682\n",
            "Epoch: 0 batch #: 65  of 300 sample #: 199 reconstruction error: 0.111875\n",
            "Epoch: 0 batch #: 66  of 300 sample #: 199 reconstruction error: 0.057079\n",
            "Epoch: 0 batch #: 67  of 300 sample #: 199 reconstruction error: 0.050100\n",
            "Epoch: 0 batch #: 68  of 300 sample #: 199 reconstruction error: 0.064809\n",
            "Epoch: 0 batch #: 69  of 300 sample #: 199 reconstruction error: 0.078655\n",
            "Epoch: 0 batch #: 70  of 300 sample #: 199 reconstruction error: 0.094473\n",
            "Epoch: 0 batch #: 71  of 300 sample #: 199 reconstruction error: 0.088075\n",
            "Epoch: 0 batch #: 72  of 300 sample #: 199 reconstruction error: 0.064542\n",
            "Epoch: 0 batch #: 73  of 300 sample #: 199 reconstruction error: 0.077275\n",
            "Epoch: 0 batch #: 74  of 300 sample #: 199 reconstruction error: 0.101087\n",
            "Epoch: 0 batch #: 75  of 300 sample #: 199 reconstruction error: 0.061993\n",
            "Epoch: 0 batch #: 76  of 300 sample #: 199 reconstruction error: 0.075925\n",
            "Epoch: 0 batch #: 77  of 300 sample #: 199 reconstruction error: 0.089839\n",
            "Epoch: 0 batch #: 78  of 300 sample #: 199 reconstruction error: 0.106685\n",
            "Epoch: 0 batch #: 79  of 300 sample #: 199 reconstruction error: 0.111078\n",
            "Epoch: 0 batch #: 80  of 300 sample #: 199 reconstruction error: 0.036848\n",
            "Epoch: 0 batch #: 81  of 300 sample #: 199 reconstruction error: 0.050909\n",
            "Epoch: 0 batch #: 82  of 300 sample #: 199 reconstruction error: 0.043116\n",
            "Epoch: 0 batch #: 83  of 300 sample #: 199 reconstruction error: 0.078601\n",
            "Epoch: 0 batch #: 84  of 300 sample #: 199 reconstruction error: 0.065863\n",
            "Epoch: 0 batch #: 85  of 300 sample #: 199 reconstruction error: 0.051230\n",
            "Epoch: 0 batch #: 86  of 300 sample #: 199 reconstruction error: 0.094062\n",
            "Epoch: 0 batch #: 87  of 300 sample #: 199 reconstruction error: 0.076276\n",
            "Epoch: 0 batch #: 88  of 300 sample #: 199 reconstruction error: 0.026801\n",
            "Epoch: 0 batch #: 89  of 300 sample #: 199 reconstruction error: 0.055172\n",
            "Epoch: 0 batch #: 90  of 300 sample #: 199 reconstruction error: 0.070948\n",
            "Epoch: 0 batch #: 91  of 300 sample #: 199 reconstruction error: 0.060031\n",
            "Epoch: 0 batch #: 92  of 300 sample #: 199 reconstruction error: 0.073371\n",
            "Epoch: 0 batch #: 93  of 300 sample #: 199 reconstruction error: 0.126542\n",
            "Epoch: 0 batch #: 94  of 300 sample #: 199 reconstruction error: 0.113225\n",
            "Epoch: 0 batch #: 95  of 300 sample #: 199 reconstruction error: 0.067721\n",
            "Epoch: 0 batch #: 96  of 300 sample #: 199 reconstruction error: 0.052770\n",
            "Epoch: 0 batch #: 97  of 300 sample #: 199 reconstruction error: 0.128704\n",
            "Epoch: 0 batch #: 98  of 300 sample #: 199 reconstruction error: 0.076509\n",
            "Epoch: 0 batch #: 99  of 300 sample #: 199 reconstruction error: 0.053954\n",
            "Epoch: 0 batch #: 100  of 300 sample #: 199 reconstruction error: 0.111484\n",
            "Epoch: 0 batch #: 101  of 300 sample #: 199 reconstruction error: 0.079689\n",
            "Epoch: 0 batch #: 102  of 300 sample #: 199 reconstruction error: 0.091666\n",
            "Epoch: 0 batch #: 103  of 300 sample #: 199 reconstruction error: 0.066770\n",
            "Epoch: 0 batch #: 104  of 300 sample #: 199 reconstruction error: 0.076490\n",
            "Epoch: 0 batch #: 105  of 300 sample #: 199 reconstruction error: 0.062382\n",
            "Epoch: 0 batch #: 106  of 300 sample #: 199 reconstruction error: 0.130432\n",
            "Epoch: 0 batch #: 107  of 300 sample #: 199 reconstruction error: 0.141539\n",
            "Epoch: 0 batch #: 108  of 300 sample #: 199 reconstruction error: 0.058628\n",
            "Epoch: 0 batch #: 109  of 300 sample #: 199 reconstruction error: 0.097085\n",
            "Epoch: 0 batch #: 110  of 300 sample #: 199 reconstruction error: 0.051964\n",
            "Epoch: 0 batch #: 111  of 300 sample #: 199 reconstruction error: 0.103053\n",
            "Epoch: 0 batch #: 112  of 300 sample #: 199 reconstruction error: 0.042096\n",
            "Epoch: 0 batch #: 113  of 300 sample #: 199 reconstruction error: 0.068802\n",
            "Epoch: 0 batch #: 114  of 300 sample #: 199 reconstruction error: 0.071968\n",
            "Epoch: 0 batch #: 115  of 300 sample #: 199 reconstruction error: 0.065023\n",
            "Epoch: 0 batch #: 116  of 300 sample #: 199 reconstruction error: 0.042242\n",
            "Epoch: 0 batch #: 117  of 300 sample #: 199 reconstruction error: 0.043958\n",
            "Epoch: 0 batch #: 118  of 300 sample #: 199 reconstruction error: 0.063106\n",
            "Epoch: 0 batch #: 119  of 300 sample #: 199 reconstruction error: 0.118106\n",
            "Epoch: 0 batch #: 120  of 300 sample #: 199 reconstruction error: 0.077382\n",
            "Epoch: 0 batch #: 121  of 300 sample #: 199 reconstruction error: 0.051141\n",
            "Epoch: 0 batch #: 122  of 300 sample #: 199 reconstruction error: 0.097506\n",
            "Epoch: 0 batch #: 123  of 300 sample #: 199 reconstruction error: 0.069305\n",
            "Epoch: 0 batch #: 124  of 300 sample #: 199 reconstruction error: 0.078751\n",
            "Epoch: 0 batch #: 125  of 300 sample #: 199 reconstruction error: 0.041750\n",
            "Epoch: 0 batch #: 126  of 300 sample #: 199 reconstruction error: 0.091890\n",
            "Epoch: 0 batch #: 127  of 300 sample #: 199 reconstruction error: 0.087429\n",
            "Epoch: 0 batch #: 128  of 300 sample #: 199 reconstruction error: 0.069167\n",
            "Epoch: 0 batch #: 129  of 300 sample #: 199 reconstruction error: 0.053151\n",
            "Epoch: 0 batch #: 130  of 300 sample #: 199 reconstruction error: 0.071107\n",
            "Epoch: 0 batch #: 131  of 300 sample #: 199 reconstruction error: 0.066668\n",
            "Epoch: 0 batch #: 132  of 300 sample #: 199 reconstruction error: 0.052688\n",
            "Epoch: 0 batch #: 133  of 300 sample #: 199 reconstruction error: 0.066899\n",
            "Epoch: 0 batch #: 134  of 300 sample #: 199 reconstruction error: 0.104120\n",
            "Epoch: 0 batch #: 135  of 300 sample #: 199 reconstruction error: 0.082123\n",
            "Epoch: 0 batch #: 136  of 300 sample #: 199 reconstruction error: 0.114319\n",
            "Epoch: 0 batch #: 137  of 300 sample #: 199 reconstruction error: 0.069411\n",
            "Epoch: 0 batch #: 138  of 300 sample #: 199 reconstruction error: 0.085222\n",
            "Epoch: 0 batch #: 139  of 300 sample #: 199 reconstruction error: 0.097645\n",
            "Epoch: 0 batch #: 140  of 300 sample #: 199 reconstruction error: 0.071014\n",
            "Epoch: 0 batch #: 141  of 300 sample #: 199 reconstruction error: 0.085381\n",
            "Epoch: 0 batch #: 142  of 300 sample #: 199 reconstruction error: 0.063452\n",
            "Epoch: 0 batch #: 143  of 300 sample #: 199 reconstruction error: 0.051634\n",
            "Epoch: 0 batch #: 144  of 300 sample #: 199 reconstruction error: 0.074876\n",
            "Epoch: 0 batch #: 145  of 300 sample #: 199 reconstruction error: 0.099939\n",
            "Epoch: 0 batch #: 146  of 300 sample #: 199 reconstruction error: 0.115124\n",
            "Epoch: 0 batch #: 147  of 300 sample #: 199 reconstruction error: 0.067994\n",
            "Epoch: 0 batch #: 148  of 300 sample #: 199 reconstruction error: 0.083077\n",
            "Epoch: 0 batch #: 149  of 300 sample #: 199 reconstruction error: 0.051495\n",
            "Epoch: 0 batch #: 150  of 300 sample #: 199 reconstruction error: 0.049207\n",
            "Epoch: 0 batch #: 151  of 300 sample #: 199 reconstruction error: 0.104016\n",
            "Epoch: 0 batch #: 152  of 300 sample #: 199 reconstruction error: 0.091628\n",
            "Epoch: 0 batch #: 153  of 300 sample #: 199 reconstruction error: 0.061533\n",
            "Epoch: 0 batch #: 154  of 300 sample #: 199 reconstruction error: 0.074512\n",
            "Epoch: 0 batch #: 155  of 300 sample #: 199 reconstruction error: 0.065384\n",
            "Epoch: 0 batch #: 156  of 300 sample #: 199 reconstruction error: 0.067879\n",
            "Epoch: 0 batch #: 157  of 300 sample #: 199 reconstruction error: 0.093979\n",
            "Epoch: 0 batch #: 158  of 300 sample #: 199 reconstruction error: 0.069219\n",
            "Epoch: 0 batch #: 159  of 300 sample #: 199 reconstruction error: 0.061947\n",
            "Epoch: 0 batch #: 160  of 300 sample #: 199 reconstruction error: 0.070208\n",
            "Epoch: 0 batch #: 161  of 300 sample #: 199 reconstruction error: 0.099046\n",
            "Epoch: 0 batch #: 162  of 300 sample #: 199 reconstruction error: 0.110942\n",
            "Epoch: 0 batch #: 163  of 300 sample #: 199 reconstruction error: 0.036150\n",
            "Epoch: 0 batch #: 164  of 300 sample #: 199 reconstruction error: 0.073443\n",
            "Epoch: 0 batch #: 165  of 300 sample #: 199 reconstruction error: 0.071466\n",
            "Epoch: 0 batch #: 166  of 300 sample #: 199 reconstruction error: 0.057444\n",
            "Epoch: 0 batch #: 167  of 300 sample #: 199 reconstruction error: 0.077005\n",
            "Epoch: 0 batch #: 168  of 300 sample #: 199 reconstruction error: 0.051927\n",
            "Epoch: 0 batch #: 169  of 300 sample #: 199 reconstruction error: 0.036501\n",
            "Epoch: 0 batch #: 170  of 300 sample #: 199 reconstruction error: 0.064931\n",
            "Epoch: 0 batch #: 171  of 300 sample #: 199 reconstruction error: 0.028250\n",
            "Epoch: 0 batch #: 172  of 300 sample #: 199 reconstruction error: 0.045450\n",
            "Epoch: 0 batch #: 173  of 300 sample #: 199 reconstruction error: 0.070053\n",
            "Epoch: 0 batch #: 174  of 300 sample #: 199 reconstruction error: 0.112275\n",
            "Epoch: 0 batch #: 175  of 300 sample #: 199 reconstruction error: 0.066096\n",
            "Epoch: 0 batch #: 176  of 300 sample #: 199 reconstruction error: 0.041154\n",
            "Epoch: 0 batch #: 177  of 300 sample #: 199 reconstruction error: 0.033621\n",
            "Epoch: 0 batch #: 178  of 300 sample #: 199 reconstruction error: 0.106205\n",
            "Epoch: 0 batch #: 179  of 300 sample #: 199 reconstruction error: 0.087759\n",
            "Epoch: 0 batch #: 180  of 300 sample #: 199 reconstruction error: 0.094711\n",
            "Epoch: 0 batch #: 181  of 300 sample #: 199 reconstruction error: 0.091186\n",
            "Epoch: 0 batch #: 182  of 300 sample #: 199 reconstruction error: 0.082194\n",
            "Epoch: 0 batch #: 183  of 300 sample #: 199 reconstruction error: 0.099740\n",
            "Epoch: 0 batch #: 184  of 300 sample #: 199 reconstruction error: 0.062793\n",
            "Epoch: 0 batch #: 185  of 300 sample #: 199 reconstruction error: 0.070802\n",
            "Epoch: 0 batch #: 186  of 300 sample #: 199 reconstruction error: 0.114719\n",
            "Epoch: 0 batch #: 187  of 300 sample #: 199 reconstruction error: 0.066492\n",
            "Epoch: 0 batch #: 188  of 300 sample #: 199 reconstruction error: 0.116637\n",
            "Epoch: 0 batch #: 189  of 300 sample #: 199 reconstruction error: 0.081473\n",
            "Epoch: 0 batch #: 190  of 300 sample #: 199 reconstruction error: 0.064354\n",
            "Epoch: 0 batch #: 191  of 300 sample #: 199 reconstruction error: 0.093793\n",
            "Epoch: 0 batch #: 192  of 300 sample #: 199 reconstruction error: 0.111205\n",
            "Epoch: 0 batch #: 193  of 300 sample #: 199 reconstruction error: 0.086837\n",
            "Epoch: 0 batch #: 194  of 300 sample #: 199 reconstruction error: 0.082930\n",
            "Epoch: 0 batch #: 195  of 300 sample #: 199 reconstruction error: 0.059014\n",
            "Epoch: 0 batch #: 196  of 300 sample #: 199 reconstruction error: 0.050824\n",
            "Epoch: 0 batch #: 197  of 300 sample #: 199 reconstruction error: 0.051749\n",
            "Epoch: 0 batch #: 198  of 300 sample #: 199 reconstruction error: 0.091925\n",
            "Epoch: 0 batch #: 199  of 300 sample #: 199 reconstruction error: 0.080229\n",
            "Epoch: 0 batch #: 200  of 300 sample #: 199 reconstruction error: 0.090546\n",
            "Epoch: 0 batch #: 201  of 300 sample #: 199 reconstruction error: 0.082899\n",
            "Epoch: 0 batch #: 202  of 300 sample #: 199 reconstruction error: 0.032235\n",
            "Epoch: 0 batch #: 203  of 300 sample #: 199 reconstruction error: 0.098130\n",
            "Epoch: 0 batch #: 204  of 300 sample #: 199 reconstruction error: 0.057787\n",
            "Epoch: 0 batch #: 205  of 300 sample #: 199 reconstruction error: 0.024907\n",
            "Epoch: 0 batch #: 206  of 300 sample #: 199 reconstruction error: 0.068284\n",
            "Epoch: 0 batch #: 207  of 300 sample #: 199 reconstruction error: 0.067547\n",
            "Epoch: 0 batch #: 208  of 300 sample #: 199 reconstruction error: 0.054585\n",
            "Epoch: 0 batch #: 209  of 300 sample #: 199 reconstruction error: 0.032096\n",
            "Epoch: 0 batch #: 210  of 300 sample #: 199 reconstruction error: 0.099647\n",
            "Epoch: 0 batch #: 211  of 300 sample #: 199 reconstruction error: 0.098757\n",
            "Epoch: 0 batch #: 212  of 300 sample #: 199 reconstruction error: 0.084727\n",
            "Epoch: 0 batch #: 213  of 300 sample #: 199 reconstruction error: 0.102253\n",
            "Epoch: 0 batch #: 214  of 300 sample #: 199 reconstruction error: 0.096021\n",
            "Epoch: 0 batch #: 215  of 300 sample #: 199 reconstruction error: 0.024340\n",
            "Epoch: 0 batch #: 216  of 300 sample #: 199 reconstruction error: 0.082450\n",
            "Epoch: 0 batch #: 217  of 300 sample #: 199 reconstruction error: 0.082422\n",
            "Epoch: 0 batch #: 218  of 300 sample #: 199 reconstruction error: 0.063374\n",
            "Epoch: 0 batch #: 219  of 300 sample #: 199 reconstruction error: 0.067475\n",
            "Epoch: 0 batch #: 220  of 300 sample #: 199 reconstruction error: 0.071315\n",
            "Epoch: 0 batch #: 221  of 300 sample #: 199 reconstruction error: 0.089008\n",
            "Epoch: 0 batch #: 222  of 300 sample #: 199 reconstruction error: 0.082310\n",
            "Epoch: 0 batch #: 223  of 300 sample #: 199 reconstruction error: 0.065365\n",
            "Epoch: 0 batch #: 224  of 300 sample #: 199 reconstruction error: 0.061450\n",
            "Epoch: 0 batch #: 225  of 300 sample #: 199 reconstruction error: 0.072919\n",
            "Epoch: 0 batch #: 226  of 300 sample #: 199 reconstruction error: 0.128007\n",
            "Epoch: 0 batch #: 227  of 300 sample #: 199 reconstruction error: 0.075240\n",
            "Epoch: 0 batch #: 228  of 300 sample #: 199 reconstruction error: 0.066896\n",
            "Epoch: 0 batch #: 229  of 300 sample #: 199 reconstruction error: 0.079871\n",
            "Epoch: 0 batch #: 230  of 300 sample #: 199 reconstruction error: 0.037760\n",
            "Epoch: 0 batch #: 231  of 300 sample #: 199 reconstruction error: 0.034308\n",
            "Epoch: 0 batch #: 232  of 300 sample #: 199 reconstruction error: 0.080658\n",
            "Epoch: 0 batch #: 233  of 300 sample #: 199 reconstruction error: 0.070275\n",
            "Epoch: 0 batch #: 234  of 300 sample #: 199 reconstruction error: 0.059060\n",
            "Epoch: 0 batch #: 235  of 300 sample #: 199 reconstruction error: 0.072106\n",
            "Epoch: 0 batch #: 236  of 300 sample #: 199 reconstruction error: 0.101642\n",
            "Epoch: 0 batch #: 237  of 300 sample #: 199 reconstruction error: 0.080120\n",
            "Epoch: 0 batch #: 238  of 300 sample #: 199 reconstruction error: 0.132588\n",
            "Epoch: 0 batch #: 239  of 300 sample #: 199 reconstruction error: 0.029801\n",
            "Epoch: 0 batch #: 240  of 300 sample #: 199 reconstruction error: 0.102038\n",
            "Epoch: 0 batch #: 241  of 300 sample #: 199 reconstruction error: 0.083971\n",
            "Epoch: 0 batch #: 242  of 300 sample #: 199 reconstruction error: 0.079208\n",
            "Epoch: 0 batch #: 243  of 300 sample #: 199 reconstruction error: 0.062437\n",
            "Epoch: 0 batch #: 244  of 300 sample #: 199 reconstruction error: 0.069384\n",
            "Epoch: 0 batch #: 245  of 300 sample #: 199 reconstruction error: 0.069791\n",
            "Epoch: 0 batch #: 246  of 300 sample #: 199 reconstruction error: 0.100515\n",
            "Epoch: 0 batch #: 247  of 300 sample #: 199 reconstruction error: 0.050397\n",
            "Epoch: 0 batch #: 248  of 300 sample #: 199 reconstruction error: 0.064516\n",
            "Epoch: 0 batch #: 249  of 300 sample #: 199 reconstruction error: 0.048227\n",
            "Epoch: 0 batch #: 250  of 300 sample #: 199 reconstruction error: 0.079738\n",
            "Epoch: 0 batch #: 251  of 300 sample #: 199 reconstruction error: 0.049997\n",
            "Epoch: 0 batch #: 252  of 300 sample #: 199 reconstruction error: 0.064570\n",
            "Epoch: 0 batch #: 253  of 300 sample #: 199 reconstruction error: 0.056120\n",
            "Epoch: 0 batch #: 254  of 300 sample #: 199 reconstruction error: 0.029458\n",
            "Epoch: 0 batch #: 255  of 300 sample #: 199 reconstruction error: 0.061970\n",
            "Epoch: 0 batch #: 256  of 300 sample #: 199 reconstruction error: 0.071753\n",
            "Epoch: 0 batch #: 257  of 300 sample #: 199 reconstruction error: 0.077598\n",
            "Epoch: 0 batch #: 258  of 300 sample #: 199 reconstruction error: 0.080695\n",
            "Epoch: 0 batch #: 259  of 300 sample #: 199 reconstruction error: 0.065699\n",
            "Epoch: 0 batch #: 260  of 300 sample #: 199 reconstruction error: 0.115235\n",
            "Epoch: 0 batch #: 261  of 300 sample #: 199 reconstruction error: 0.038894\n",
            "Epoch: 0 batch #: 262  of 300 sample #: 199 reconstruction error: 0.057835\n",
            "Epoch: 0 batch #: 263  of 300 sample #: 199 reconstruction error: 0.079217\n",
            "Epoch: 0 batch #: 264  of 300 sample #: 199 reconstruction error: 0.076430\n",
            "Epoch: 0 batch #: 265  of 300 sample #: 199 reconstruction error: 0.068168\n",
            "Epoch: 0 batch #: 266  of 300 sample #: 199 reconstruction error: 0.032127\n",
            "Epoch: 0 batch #: 267  of 300 sample #: 199 reconstruction error: 0.053510\n",
            "Epoch: 0 batch #: 268  of 300 sample #: 199 reconstruction error: 0.022889\n",
            "Epoch: 0 batch #: 269  of 300 sample #: 199 reconstruction error: 0.083541\n",
            "Epoch: 0 batch #: 270  of 300 sample #: 199 reconstruction error: 0.073803\n",
            "Epoch: 0 batch #: 271  of 300 sample #: 199 reconstruction error: 0.053361\n",
            "Epoch: 0 batch #: 272  of 300 sample #: 199 reconstruction error: 0.036631\n",
            "Epoch: 0 batch #: 273  of 300 sample #: 199 reconstruction error: 0.044018\n",
            "Epoch: 0 batch #: 274  of 300 sample #: 199 reconstruction error: 0.047404\n",
            "Epoch: 0 batch #: 275  of 300 sample #: 199 reconstruction error: 0.094884\n",
            "Epoch: 0 batch #: 276  of 300 sample #: 199 reconstruction error: 0.067824\n",
            "Epoch: 0 batch #: 277  of 300 sample #: 199 reconstruction error: 0.056352\n",
            "Epoch: 0 batch #: 278  of 300 sample #: 199 reconstruction error: 0.067823\n",
            "Epoch: 0 batch #: 279  of 300 sample #: 199 reconstruction error: 0.058124\n",
            "Epoch: 0 batch #: 280  of 300 sample #: 199 reconstruction error: 0.073157\n",
            "Epoch: 0 batch #: 281  of 300 sample #: 199 reconstruction error: 0.067106\n",
            "Epoch: 0 batch #: 282  of 300 sample #: 199 reconstruction error: 0.103495\n",
            "Epoch: 0 batch #: 283  of 300 sample #: 199 reconstruction error: 0.045661\n",
            "Epoch: 0 batch #: 284  of 300 sample #: 199 reconstruction error: 0.043545\n",
            "Epoch: 0 batch #: 285  of 300 sample #: 199 reconstruction error: 0.063435\n",
            "Epoch: 0 batch #: 286  of 300 sample #: 199 reconstruction error: 0.075551\n",
            "Epoch: 0 batch #: 287  of 300 sample #: 199 reconstruction error: 0.079193\n",
            "Epoch: 0 batch #: 288  of 300 sample #: 199 reconstruction error: 0.029183\n",
            "Epoch: 0 batch #: 289  of 300 sample #: 199 reconstruction error: 0.088288\n",
            "Epoch: 0 batch #: 290  of 300 sample #: 199 reconstruction error: 0.099089\n",
            "Epoch: 0 batch #: 291  of 300 sample #: 199 reconstruction error: 0.122949\n",
            "Epoch: 0 batch #: 292  of 300 sample #: 199 reconstruction error: 0.070387\n",
            "Epoch: 0 batch #: 293  of 300 sample #: 199 reconstruction error: 0.059992\n",
            "Epoch: 0 batch #: 294  of 300 sample #: 199 reconstruction error: 0.094876\n",
            "Epoch: 0 batch #: 295  of 300 sample #: 199 reconstruction error: 0.063087\n",
            "Epoch: 0 batch #: 296  of 300 sample #: 199 reconstruction error: 0.030355\n",
            "Epoch: 0 batch #: 297  of 300 sample #: 199 reconstruction error: 0.103921\n",
            "Epoch: 0 batch #: 298  of 300 sample #: 199 reconstruction error: 0.054478\n",
            "Epoch: 0 batch #: 299  of 300 sample #: 199 reconstruction error: 0.039866\n",
            "Epoch: 0 batch #: 300  of 300 sample #: 199 reconstruction error: 0.070640\n"
          ],
          "name": "stdout"
        }
      ]
    },
    {
      "cell_type": "markdown",
      "metadata": {
        "id": "dq_douJZluFf"
      },
      "source": [
        "Let's take a look at the errors at the end of each batch:\n"
      ]
    },
    {
      "cell_type": "code",
      "metadata": {
        "colab": {
          "base_uri": "https://localhost:8080/",
          "height": 279
        },
        "id": "Vb0DGZerluFg",
        "outputId": "256d20fc-e706-4b62-d470-e8423ea5726f"
      },
      "source": [
        "plt.plot(errors)\n",
        "plt.xlabel(\"Batch Number\")\n",
        "plt.ylabel(\"Error\")\n",
        "plt.show()"
      ],
      "execution_count": null,
      "outputs": [
        {
          "output_type": "display_data",
          "data": {
            "image/png": "[encoded data removed]",
            "text/plain": [
              "<Figure size 432x288 with 1 Axes>"
            ]
          },
          "metadata": {
            "tags": [],
            "needs_background": "light"
          }
        }
      ]
    },
    {
      "cell_type": "markdown",
      "metadata": {
        "id": "NUW3_groluFh"
      },
      "source": [
        "What is the final weight matrix $W$ after training?\n"
      ]
    },
    {
      "cell_type": "markdown",
      "metadata": {
        "id": "NWX1UbkqluFp"
      },
      "source": [
        "<a id=\"ref5\"></a>\n",
        "#**Learned features**\n"
      ]
    },
    {
      "cell_type": "markdown",
      "metadata": {
        "id": "t-b6HvriluFq"
      },
      "source": [
        "We can take each hidden unit and visualize the connections between that hidden unit and each element in the input vector. In our case, we have 50 hidden units. Lets visualize those.\n"
      ]
    },
    {
      "cell_type": "markdown",
      "metadata": {
        "id": "UltUcH4cluFq"
      },
      "source": [
        "Let's plot the current weights:\n",
        "<b>tile_raster_images</b> helps in generating an easy to grasp image from a set of samples or weights. It transforms the <b>uw</b> (with one flattened image per row of size 784), into an array (of size $28\\times28$) in which images are reshaped and laid out like tiles on a floor.\n"
      ]
    },
    {
      "cell_type": "code",
      "metadata": {
        "colab": {
          "base_uri": "https://localhost:8080/",
          "height": 550
        },
        "id": "Iu0UepcaluFr",
        "outputId": "32f25809-e562-4444-e376-0043d6f1e57f"
      },
      "source": [
        "tile_raster_images(X=W.numpy().T, img_shape=(28, 28), tile_shape=(5, 10), tile_spacing=(1, 1))\n",
        "import matplotlib.pyplot as plt\n",
        "from PIL import Image\n",
        "%matplotlib inline\n",
        "image = Image.fromarray(tile_raster_images(X=W.numpy().T, img_shape=(28, 28) ,tile_shape=(5, 10), tile_spacing=(1, 1)))\n",
        "### Plot image\n",
        "plt.rcParams['figure.figsize'] = (18.0, 18.0)\n",
        "imgplot = plt.imshow(image)\n",
        "imgplot.set_cmap('gray')  "
      ],
      "execution_count": null,
      "outputs": [
        {
          "output_type": "display_data",
          "data": {
            "image/png": "[encoded data removed]",
            "text/plain": [
              "<Figure size 1296x1296 with 1 Axes>"
            ]
          },
          "metadata": {
            "tags": [],
            "needs_background": "light"
          }
        }
      ]
    },
    {
      "cell_type": "markdown",
      "metadata": {
        "id": "bZb8cpy0luF3"
      },
      "source": [
        "### References:\n",
        "\n",
        "[https://en.wikipedia.org/wiki/Restricted_Boltzmann_machine](https://en.wikipedia.org/wiki/Restricted_Boltzmann_machine?cm_mmc=Email_Newsletter-_-Developer_Ed%2BTech-_-WW_WW-_-SkillsNetwork-Courses-IBMDeveloperSkillsNetwork-DL0120EN-SkillsNetwork-20629446&cm_mmca1=000026UJ&cm_mmca2=10006555&cm_mmca3=M12345678&cvosrc=email.Newsletter.M12345678&cvo_campaign=000026UJ)  \n",
        "[http://deeplearning.net/tutorial/rbm.html](http://deeplearning.net/tutorial/rbm.html?cm_mmc=Email_Newsletter-_-Developer_Ed%2BTech-_-WW_WW-_-SkillsNetwork-Courses-IBMDeveloperSkillsNetwork-DL0120EN-SkillsNetwork-20629446&cm_mmca1=000026UJ&cm_mmca2=10006555&cm_mmca3=M12345678&cvosrc=email.Newsletter.M12345678&cvo_campaign=000026UJ&cm_mmc=Email_Newsletter-_-Developer_Ed%2BTech-_-WW_WW-_-SkillsNetwork-Courses-IBMDeveloperSkillsNetwork-DL0120EN-SkillsNetwork-20629446&cm_mmca1=000026UJ&cm_mmca2=10006555&cm_mmca3=M12345678&cvosrc=email.Newsletter.M12345678&cvo_campaign=000026UJ)  \n",
        "[http://www.cs.utoronto.ca/~hinton/absps/netflixICML.pdf](http://www.cs.utoronto.ca/~hinton/absps/netflixICML.pdf?cm_mmc=Email_Newsletter-_-Developer_Ed%2BTech-_-WW_WW-_-SkillsNetwork-Courses-IBMDeveloperSkillsNetwork-DL0120EN-SkillsNetwork-20629446&cm_mmca1=000026UJ&cm_mmca2=10006555&cm_mmca3=M12345678&cvosrc=email.Newsletter.M12345678&cvo_campaign=000026UJ&cm_mmc=Email_Newsletter-_-Developer_Ed%2BTech-_-WW_WW-_-SkillsNetwork-Courses-IBMDeveloperSkillsNetwork-DL0120EN-SkillsNetwork-20629446&cm_mmca1=000026UJ&cm_mmca2=10006555&cm_mmca3=M12345678&cvosrc=email.Newsletter.M12345678&cvo_campaign=000026UJ)<br>\n",
        "<http://imonad.com/rbm/restricted-boltzmann-machine/>  \n"
      ]
    }
  ]
}